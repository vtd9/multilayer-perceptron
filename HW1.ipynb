{
  "nbformat": 4,
  "nbformat_minor": 0,
  "metadata": {
    "colab": {
      "name": "HW1.ipynb",
      "provenance": [],
      "collapsed_sections": [
        "OHuM8L8m3E5p",
        "EeWhqjZ5-gcB",
        "z-GYqijcKkcE",
        "t7v6weDTiymY",
        "uWe1jz6-4JoH",
        "I9ZZcb30LB9b",
        "gTQjTpXU-mC4",
        "aOpXBwW6FMLR"
      ]
    },
    "kernelspec": {
      "name": "python3",
      "display_name": "Python 3"
    },
    "language_info": {
      "name": "python"
    }
  },
  "cells": [
    {
      "cell_type": "markdown",
      "source": [
        "# Homework 1\n",
        "\n",
        "CS 637, Spring 2022\n",
        "\n",
        "Due 3/3/21\n",
        "\n",
        "1) Implement an API to create a fully-connected multilayer perceptron (MLP) for a *k*-class classification problem.\n",
        "\n",
        "2) Test this implementation on MNIST data."
      ],
      "metadata": {
        "id": "GnTdZZ4lrWeB"
      }
    },
    {
      "cell_type": "markdown",
      "source": [
        "Notation\n",
        "\n",
        "*  `w`: weights\n",
        "*  `b`: biases\n",
        "*  `z`: aggregated values\n",
        "*  `a`: activated values\n",
        "*  `x`: input to a neural network\n",
        "*  `yhat`: final output from the neural network (i.e., *after* softmax if applied)"
      ],
      "metadata": {
        "id": "aB0N4lx1NH_t"
      }
    },
    {
      "cell_type": "code",
      "source": [
        "# Import dependencies\n",
        "import numpy as np\n",
        "import time\n",
        "import matplotlib.pyplot as plt\n",
        "plt.rcParams[\"figure.figsize\"] = (9, 6) # Set size of plots in notebook"
      ],
      "metadata": {
        "id": "WDcWMVP-46qe"
      },
      "execution_count": null,
      "outputs": []
    },
    {
      "cell_type": "markdown",
      "source": [
        "# 1. API"
      ],
      "metadata": {
        "id": "OHuM8L8m3E5p"
      }
    },
    {
      "cell_type": "markdown",
      "source": [
        "## 1.1 Layer class"
      ],
      "metadata": {
        "id": "EeWhqjZ5-gcB"
      }
    },
    {
      "cell_type": "code",
      "source": [
        "class Layer(object):\n",
        "  '''\n",
        "  Represents one layer of a multilayer perceptron (MLP).\n",
        "\n",
        "  Initializes and updates parameter values, weights (w) and bias (b), for \n",
        "  aggregation within the layer.\n",
        "\n",
        "  '''\n",
        "\n",
        "  def __init__(self, in_dim=1, out_dim=1, activ_fun=None, init_with_normal=True, \n",
        "               mean=0, var=0.055, min=-0.1, max=0.1, activated=None):\n",
        "    '''\n",
        "    Constructs a new Layer object.\n",
        "\n",
        "    Args:\n",
        "     in_dim (int): Dimension of inputs to this layer\n",
        "     out_dim (int): Dimension of outputs from this layer\n",
        "     activ_fun (list or tuple): Container of functions from the Activation \n",
        "      class to apply to each layer\n",
        "     init_with_normal (bool): True to initialize parameters by sampling from a \n",
        "      normal distribution, false to sample from a uniform distribution\n",
        "     mean (float): Mean to use if initializing with a normal dist\n",
        "     var (float): Variance to use if initializing with a normal dist\n",
        "     min (float): Minimum bound to use if initializing with a uniform dist\n",
        "     max (float): Maximum bound to use if initializing with a uniform dist\n",
        "     activated (ndarray): Array to supply in special cases (i.e., input layer)\n",
        "      to explicitly set the activation values before any data is passed through\n",
        "      \n",
        "    '''\n",
        "    self.activ_fun = activ_fun\n",
        "    self.w = None # Weights\n",
        "    self.b = None # Bias\n",
        "    self.z = None # Aggregations\n",
        "    self.a = activated # Activations\n",
        "\n",
        "    # Initialize layer's parameters if a non-input layer\n",
        "    if activ_fun is not None:\n",
        "      if init_with_normal:\n",
        "        self.normal_init(out_dim, in_dim, mean, var) # Weights\n",
        "        self.normal_init(out_dim, 1, mean, var, True) # Bias\n",
        "      else:\n",
        "        self.random_init(out_dim, in_dim, min, max) # Weights\n",
        "        self.random_init(out_dim, 1, min, max, bias=True) # Bias\n",
        "\n",
        "  def normal_init(self, out_dim, in_dim, mean=0.0, var=0.05, bias=False):\n",
        "    '''\n",
        "    Initialize parameters by sampling from a normal distribution.\n",
        "\n",
        "    Args:\n",
        "\n",
        "\n",
        "    '''\n",
        "    # If variance not set, use Kaiming's initializaion with fan-in\n",
        "\n",
        "    # Initialize weights or bias\n",
        "    if bias:\n",
        "      self.b = np.random.normal(mean, var**0.5, (out_dim, in_dim))\n",
        "    else:\n",
        "      self.w = np.random.normal(mean, var**0.5, (out_dim, in_dim))\n",
        "\n",
        "  def random_init(self, out_dim, in_dim, min=-0.1, max=0.1, bias=False):\n",
        "    '''\n",
        "    Initialize parameters by sampling from a uniform distribution.\n",
        "\n",
        "    Args:\n",
        "\n",
        "    '''\n",
        "    if bias:\n",
        "      self.b = np.random.uniform(min, max, size=(out_dim, in_dim))\n",
        "    else:\n",
        "      self.w = np.random.uniform(min, max, size=(out_dim, in_dim))\n",
        "\n",
        "  def zero_bias(self):\n",
        "    '''\n",
        "    Set layer biases to zero.\n",
        "\n",
        "    '''\n",
        "    self.b = np.zeros(self.b.shape)\n",
        "  \n",
        "  def forward(self, input, batch_size):\n",
        "    '''\n",
        "    Pass inputs forward through the layer.\n",
        "    \n",
        "    Args:\n",
        "      input (ndarray): Feature values to pass through the model\n",
        "      batch_size (int): Batch size of the input\n",
        "\n",
        "    '''\n",
        "    self.z = self.w @ input + self.b # Aggregate\n",
        "    self.a = (self.activ_fun(self.z)).reshape(-1, batch_size) # Activate\n",
        "  \n",
        "  def adjust_weight(self, prev_a, grad_chain, lr, batch_size):\n",
        "    '''\n",
        "    Update weight values using the backpropagated gradient.\n",
        "    \n",
        "    Args:\n",
        "      prev_a (ndarray): Activation from the previous layer\n",
        "      grad_chain (ndarray): Backpropagated chain of derivatives so far\n",
        "      lr: Learning rate\n",
        "\n",
        "    '''\n",
        "    # Normalize magnitude of adjustment with batch size\n",
        "    self.w -= lr/batch_size * (grad_chain @ prev_a.T)\n",
        "  \n",
        "  def adjust_bias(self, grad_chain, lr, batch_size):\n",
        "    '''\n",
        "    Update bias values using the backpropagated gradient.\n",
        "\n",
        "    Args:\n",
        "      grad_chain (ndarray): Backpropagated chain of derivatives so far\n",
        "      lr (float): Learning rate\n",
        "      batch_size (int): Batch size\n",
        "\n",
        "    '''\n",
        "    # Derivative of an aggregate wrt bias (dz/db) = 1, so don't need \n",
        "    # activation values of the previous layer\n",
        "    self.b -= lr/batch_size * np.sum(grad_chain, axis=1).reshape(-1, 1)"
      ],
      "metadata": {
        "id": "TXeX29VN5ZYx"
      },
      "execution_count": null,
      "outputs": []
    },
    {
      "cell_type": "markdown",
      "source": [
        "## 1.2 Perceptron class"
      ],
      "metadata": {
        "id": "z-GYqijcKkcE"
      }
    },
    {
      "cell_type": "code",
      "source": [
        "class Perceptron(object):\n",
        "  '''\n",
        "  Represents a multi-layer perceptron (MLP) for processing input data. \n",
        "  \n",
        "  Made of an aggregate of Layer objects that can be accessed from indexes,\n",
        "  where 0 is the input layer, 1 is the first hidden layer, and so forth.\n",
        "\n",
        "  '''\n",
        "\n",
        "  def __init__(self, dims, activ_fns, loss_fn,\n",
        "               init_with_normal=True, mean=0.0, var=0.05, min=-0.1, max=0.1):\n",
        "    '''\n",
        "    Constructs a new Perceptron object.\n",
        "\n",
        "    Args:\n",
        "      dims (list or tuple): Container of ints, each representing the \n",
        "        dimensionality of a layer at the same index. First integer should be\n",
        "        the number of input features; last int is the number of output neurons.\n",
        "      activ_fns (list or tuple): Container of methods from the Activation class \n",
        "      to apply on the hidden and output aggregations\n",
        "      loss_fn: loss function to measure model performance\n",
        "      init_with_normal (bool): True to initialize parameters by sampling from a \n",
        "        normal distribution, false to sample from a uniform one\n",
        "      mean (float): Mean to use if initializing with a normal dist\n",
        "      var (float): Variance to use if initializing with a normal dist\n",
        "      min (float): Minimum bound to use if initializing with a uniform dist\n",
        "      max (float): Minimum bound to use if initializing with a uniform dist\n",
        "\n",
        "    '''\n",
        "    # Ensure Perceptron has at least input and output layers\n",
        "    assert len(dims) > 1\n",
        "\n",
        "    # Ensure number of activation functions matches number of layers - 1\n",
        "    assert len(dims) == len(activ_fns) + 1\n",
        "    \n",
        "    self.dims = dims\n",
        "    self.n_layers = len(dims)\n",
        "    self.activ_fns = activ_fns\n",
        "    self.loss_fn = loss_fn\n",
        "    self.reset(init_with_normal, mean, var, min, max) # Initialize parameters\n",
        "\n",
        "  def reset(self, init_with_normal=True, mean=0.0, var=0.05, min=-0.1, max=0.1):  \n",
        "    '''\n",
        "    Initialize parameters in the MLP.\n",
        "\n",
        "    Args:\n",
        "\n",
        "\n",
        "    '''\n",
        "    self.layers = [None] * len(self.dims)\n",
        "\n",
        "    # For each layer besides the input layer, attach the appropriate dimensions, \n",
        "    # activation function, and initialization parameters\n",
        "    for i in range(self.n_layers - 1):\n",
        "      self.layers[i + 1] = Layer(\n",
        "          in_dim=self.dims[i], out_dim=self.dims[i+1],\n",
        "          activ_fun=self.activ_fns[i], \n",
        "          init_with_normal=init_with_normal,\n",
        "           mean=mean, var=var, min=min, max=max)\n",
        "  \n",
        "  def zero_biases(self):\n",
        "    '''\n",
        "    Set all biases in the MLP to zero.\n",
        "\n",
        "    '''\n",
        "    for i in range(1, self.n_layers):\n",
        "      self.layers[i].zero_bias()\n",
        "\n",
        "  def __getitem__(self, layer_index):\n",
        "    '''\n",
        "    Retrieves reference to a layer in the MLP.\n",
        "\n",
        "    Args:\n",
        "      layer_index (int): Index of layer to access.\n",
        "\n",
        "    Returns: \n",
        "      Layer object at layer_index\n",
        "\n",
        "    '''\n",
        "    return self.layers[layer_index]\n",
        "  \n",
        "  def forward(self, X, batch_size):\n",
        "    '''\n",
        "    Step forward through the MLP, aggregating the previous layer's values and\n",
        "    then applying the chosen activation function.\n",
        "\n",
        "    Args:\n",
        "      X (ndarray): Input data to feed through the network\n",
        "      batch_size (int): Batch size\n",
        "\n",
        "    '''\n",
        "    # Set the first layer (the input layer)'s \"activation\" to the input data\n",
        "    self.layers[0] = Layer(activated=X)\n",
        "\n",
        "    # Pass through each layer using inputs from previous layer\n",
        "    for i, layer in enumerate(self.layers[1:], start=1):\n",
        "      layer.forward(self.layers[i-1].a, batch_size)\n",
        "  \n",
        "  def backward(self, labels, lr, batch_size):\n",
        "    '''\n",
        "    Backpropagates from loss and adjust parameters after a forward pass.\n",
        "    \n",
        "    Args:\n",
        "      labels (ndarray): True labels in a one-hot representation\n",
        "      lr (float): Learning rate\n",
        "      batch_size (int): Batch size\n",
        "    \n",
        "    '''\n",
        "    # Calculate derivative of loss wrt logits\n",
        "    grad_chain = self.loss_fn(self.layers[-1].a, labels, derive=True)\n",
        "\n",
        "    for i in range(self.n_layers - 1, 0, -1):\n",
        "      # Save current weight for dloss/da of the previous layer later\n",
        "      prev_a = self.layers[i-1].a\n",
        "      old_weight = self.layers[i].w\n",
        "\n",
        "      # Adjust parameters\n",
        "      self.layers[i].adjust_weight(prev_a, grad_chain, lr, batch_size)\n",
        "      self.layers[i].adjust_bias(grad_chain, lr, batch_size)\n",
        "\n",
        "      # Compute dloss/da of previous layer, multiply to current product\n",
        "      grad_chain = (old_weight.T @ grad_chain) \n",
        "\n",
        "      # Compute dloss/dz of previous layer using elementwise multiplication\n",
        "      if self.layers[i-1].activ_fun is not None:\n",
        "        da_dz = self.layers[i-1].activ_fun(prev_a, derive=True)\n",
        "      else: # Don't need to derive the input layer\n",
        "        break\n",
        "  \n",
        "  def train(self, generator, lr=0.001, batch_size=100, train_mode=True):\n",
        "    '''\n",
        "    Train for a single epoch.\n",
        "\n",
        "    Args:\n",
        "      generator (generator): Generator to loop through one batch at a time\n",
        "      lr (float): Learning rate\n",
        "      train_mode (bool): True to backpropagate and update parameters\n",
        "    \n",
        "    Returns:\n",
        "      Average loss (float), average accuracy (float)\n",
        "\n",
        "    '''\n",
        "    loss = 0.0\n",
        "    acc = 0.0\n",
        "    for i, (X, y) in enumerate(generator):\n",
        "      self.forward(X, batch_size)\n",
        "\n",
        "      if train_mode: # Adjust parameters only during training\n",
        "        self.backward(y, lr, batch_size)\n",
        "\n",
        "      # Update accumulated measures\n",
        "      loss += self.loss_fn(self[-1].a, y)\n",
        "      acc += Loss.accuracy(self[-1].a, y)\n",
        "\n",
        "    # Average over the number of batches done\n",
        "    return loss/(i+1), acc/(i+1)"
      ],
      "metadata": {
        "id": "OCaLYwcnou37"
      },
      "execution_count": null,
      "outputs": []
    },
    {
      "cell_type": "markdown",
      "source": [
        "## 1.3 Activation and loss functions"
      ],
      "metadata": {
        "id": "t7v6weDTiymY"
      }
    },
    {
      "cell_type": "code",
      "source": [
        "class Activation(object):\n",
        "  '''\n",
        "  Common activation functions used in a neural network.\n",
        "\n",
        "  '''\n",
        "\n",
        "  @staticmethod\n",
        "  def relu(x, derive=False):\n",
        "    '''\n",
        "    Applies ReLU or its derivative on an input.\n",
        "    \n",
        "    Args:\n",
        "      x (ndarray): Input data to apply ReLU on\n",
        "      derive (bool): True to take derivative of ReLU wrt to X\n",
        "\n",
        "    Returns:\n",
        "      Activated or gradient value from applying ReLU.\n",
        "\n",
        "    '''\n",
        "    if not derive:\n",
        "      return np.maximum(x, 0., x)\n",
        "    else:\n",
        "      return (x > 0).astype(int)\n",
        "  \n",
        "  @staticmethod\n",
        "  def sigmoid(x, derive=False, threshold=-100.0):\n",
        "    '''\n",
        "    Applies sigmoid or its deriative on an input.\n",
        "\n",
        "    Args:\n",
        "      x (ndarray): Input data to apply sigmoid on\n",
        "      derive (bool): True to take derivative of sigmoid wrt to X\n",
        "      threshold (float): Minimum threshold to use the first formulation of\n",
        "        sigmoid for. If any of the inputs are less than this, use second\n",
        "        formulation to help prevent overflow.\n",
        "\n",
        "    Returns:\n",
        "      Activated or gradient value from applying sigmoid.\n",
        "\n",
        "    '''\n",
        "    # Condition to prevent numerical overflow or divide by 0 with exponent\n",
        "    if not derive:\n",
        "      if (x < threshold).any():\n",
        "        return np.exp(x) / (np.exp(x) + 1)\n",
        "      else:\n",
        "        return 1 / (1 + np.exp(-x))\n",
        "    else:\n",
        "      return Activation.sigmoid(x) * (1-Activation.sigmoid(x))\n",
        "\n",
        "\n",
        "  @staticmethod\n",
        "  def softmax(x):\n",
        "    '''\n",
        "    Args:\n",
        "      x (ndarray): Input data to apply softmax on\n",
        "\n",
        "    Returns: \n",
        "      Probabilities for a k-class classification so the sum for a given example\n",
        "      over all classes = 1.0\n",
        "      \n",
        "    '''\n",
        "    # Update from using a naive implementation - prevent numerical overflows\n",
        "    # by using shifting trick as opposed to np.exp(x)/np.sum(np.exp(x), axis=0)\n",
        "    shift = np.max(x)\n",
        "    exp_x = np.exp(x - shift)\n",
        "    return exp_x/np.sum(exp_x, axis=0)\n",
        "\n",
        "  @staticmethod \n",
        "  def identity(x, derive=False):\n",
        "    if not derive:\n",
        "      return x\n",
        "    else:\n",
        "      return 1"
      ],
      "metadata": {
        "id": "5Ih0IHs_ixjA"
      },
      "execution_count": null,
      "outputs": []
    },
    {
      "cell_type": "code",
      "source": [
        "class Loss(object):\n",
        "  '''\n",
        "  Common loss functions used in a neural network.\n",
        "\n",
        "  '''\n",
        "\n",
        "  @staticmethod\n",
        "  def cross_entropy(yhat, y, epsilon=1e-5, derive=False):\n",
        "    '''\n",
        "    Computes the cross-entropy loss or its gradient with respect to logits for \n",
        "    a batch of predictions.\n",
        "\n",
        "    Args:\n",
        "      yhat (ndarray): Outputs (after activation) from a MLP\n",
        "      y (ndarray): Actual labels to compare output with\n",
        "      epsilon (float): Small positive value to prevent taking log of 0\n",
        "      derive (bool): True to return derivative wrt logits\n",
        "\n",
        "    Returns:\n",
        "      Cross-entropy loss value or its derivative wrt logits\n",
        "\n",
        "    '''\n",
        "    if not derive:\n",
        "      # Squash for each example by summing along axis 0 before averaging - \n",
        "      # erroneously many zeros otherwise\n",
        "      return np.average(np.sum(-y * np.log(yhat + epsilon), axis=0))\n",
        "    else:\n",
        "      return yhat - y\n",
        "\n",
        "  @staticmethod\n",
        "  def hinge_loss(yhat, y, margin=1.0, derive=False):\n",
        "    '''\n",
        "    Computes the hinge loss or its derivative for a batch of predictions.\n",
        "\n",
        "    Args:\n",
        "      yhat (ndarray): Outputs (after activation) from a MLP\n",
        "      y (ndarray): Actual labels to compare output with\n",
        "      margin (float): Margin for target class value to overtake\n",
        "      derive (bool): True to return derivative\n",
        "\n",
        "    Returns:\n",
        "      Hinge loss value or its derivative\n",
        "\n",
        "    '''\n",
        "    # Output of the target class for each example\n",
        "    # Repeat so same value going down row to get same shape as yhat\n",
        "    y_target = np.sum(np.where(y == 1, yhat, 0), axis=0)\n",
        "\n",
        "    # Get distances from outputs at indexes != target class\n",
        "    # Add margin to elements at indexes != target class\n",
        "    dist = np.where(y == 1, 0, yhat - y_target + margin)\n",
        "\n",
        "    if not derive:\n",
        "      # Get the positive differences over each example (zero-threshold)\n",
        "      pos_per_example = np.where(dist > 0, dist, 0)\n",
        "\n",
        "      # Sum over each example, average over all batches\n",
        "      return np.sum(np.sum(pos_per_example, axis=0))\n",
        "    else:\n",
        "      return\n",
        "  \n",
        "  @staticmethod\n",
        "  def accuracy(yhat, y, y_one_hot=True, return_predict=False):\n",
        "    '''\n",
        "    Computes the accuracy for a batch of outputs.\n",
        "\n",
        "    Args:\n",
        "      yhat (ndarray): Outputs (after activation) from a MLP\n",
        "      y (ndarray): Actual labels to compare output with\n",
        "      y_one_hot: True if y given in one-hot form, false if given as a list \n",
        "        of correct indexes\n",
        "\n",
        "    Returns:\n",
        "      Accuracy of a given output against its true values\n",
        "\n",
        "    '''\n",
        "    # Prediction class is the one with max predicted probability in each example\n",
        "    yhat_choices = np.argmax(yhat, axis=0)\n",
        "\n",
        "    # Reverse the actual labels' representation as one-hot for easier comparison\n",
        "    if y_one_hot:\n",
        "      y = Utility.reverse_one_hot(y)\n",
        "\n",
        "    # If want to return the actual predictions\n",
        "    if return_predict:\n",
        "      return yhat_choices\n",
        "\n",
        "    # Else, return the average accuracy\n",
        "    return np.average(yhat_choices == y)"
      ],
      "metadata": {
        "id": "cKXFSrnTBkys"
      },
      "execution_count": null,
      "outputs": []
    },
    {
      "cell_type": "code",
      "source": [
        "# TEMP: hinge loss bumbling\n",
        "yhat = np.random.normal(size=(4,3)).T\n",
        "y = np.zeros((4, 3)).T\n",
        "y[0, 0] = 1\n",
        "y[2, 1] = 1\n",
        "y[1, 2] = 1\n",
        "y[0, 3] = 1\n",
        "yhat, y"
      ],
      "metadata": {
        "colab": {
          "base_uri": "https://localhost:8080/"
        },
        "id": "aQyT3KsAJxc3",
        "outputId": "7c89fe23-6df2-4593-90ff-64fb85113de1"
      },
      "execution_count": null,
      "outputs": [
        {
          "output_type": "execute_result",
          "data": {
            "text/plain": [
              "(array([[ 0.90033512,  0.91042561,  0.53460263,  0.18820248],\n",
              "        [ 0.26511812,  0.82154708,  1.20149221, -0.40569326],\n",
              "        [ 1.98426342, -0.65436114,  1.73326598,  0.82060751]]),\n",
              " array([[1., 0., 0., 1.],\n",
              "        [0., 0., 1., 0.],\n",
              "        [0., 1., 0., 0.]]))"
            ]
          },
          "metadata": {},
          "execution_count": 65
        }
      ]
    },
    {
      "cell_type": "code",
      "source": [
        "# TEMP\n",
        "y_target = np.sum(np.where(y == 1, yhat, 0), axis=0)\n",
        "dist = np.where(y == 1, 0, yhat - y_target + 1.)\n",
        "maybe_deriv = np.where(y == 1, np.sum(dist > 0, axis=0), dist > 0)\n",
        "dist, maybe_deriv"
      ],
      "metadata": {
        "id": "iWaqnbauNR8q",
        "colab": {
          "base_uri": "https://localhost:8080/"
        },
        "outputId": "082b5396-bbe9-45af-d6c4-577df5fa6962"
      },
      "execution_count": null,
      "outputs": [
        {
          "output_type": "execute_result",
          "data": {
            "text/plain": [
              "(array([[0.        , 2.56478676, 0.33311042, 0.        ],\n",
              "        [0.364783  , 2.47590823, 0.        , 0.40610426],\n",
              "        [2.0839283 , 0.        , 1.53177377, 1.63240503]]),\n",
              " array([[2, 1, 1, 2],\n",
              "        [1, 1, 2, 1],\n",
              "        [1, 2, 1, 1]]))"
            ]
          },
          "metadata": {},
          "execution_count": 66
        }
      ]
    },
    {
      "cell_type": "markdown",
      "source": [
        "## 1.4 Utilities class"
      ],
      "metadata": {
        "id": "uWe1jz6-4JoH"
      }
    },
    {
      "cell_type": "code",
      "source": [
        "class Utility(object):\n",
        "  '''\n",
        "  Miscellaneous methods for training and plotting.\n",
        "\n",
        "  '''\n",
        "\n",
        "  @staticmethod\n",
        "  def train_and_validate(mlp, dataset, lr, epochs, batch_size,\n",
        "                         shuffle_every_epoch=True, verbose=True):\n",
        "    '''\n",
        "    Train and validate in parallel over one or more epochs.\n",
        "\n",
        "    Args:\n",
        "      mlp: Perceptron object to train\n",
        "      dataset: Dataset object to pull features and labels from\n",
        "      lr (float): Learning rate\n",
        "      epochs (int): Number of epochs to train in\n",
        "      batch_size (int): Batch size\n",
        "      shuffle_every_epoch (bool): True to reshuffle training and validation\n",
        "        data within their divisions when regenerating the batches\n",
        "      verbose (bool): True to print loss and accuracy values after each epoch\n",
        "\n",
        "    Returns:\n",
        "\n",
        "    \n",
        "    '''\n",
        "    assert (epochs > 0)\n",
        "    train_loss = np.empty(epochs)\n",
        "    train_acc = np.empty(epochs)\n",
        "    valid_loss = np.empty(epochs)\n",
        "    valid_acc = np.empty(epochs)\n",
        "    start_time = time.time()\n",
        "    if verbose:\n",
        "      print('Epoch \\tTrain_loss \\tTrain_acc \\tValid_loss \\tValid_acc')\n",
        "\n",
        "    for epoch in range(epochs):\n",
        "      # Make iterators\n",
        "      train_iter = dataset.make_batches(batch_size, group='train', \n",
        "                                        shuffle_again=shuffle_every_epoch)\n",
        "      valid_iter = dataset.make_batches(batch_size, group='valid',\n",
        "                                        shuffle_again=shuffle_every_epoch)\n",
        "\n",
        "      # Train and validate - validate \"previous\" model before updating\n",
        "      # i.e., the first validation should achieve an accuracy ~10% for a \n",
        "      # 10-class classification problem\n",
        "      valid_loss[epoch], valid_acc[epoch] = mlp.train(valid_iter, lr, \n",
        "                                                      batch_size,\n",
        "                                                      train_mode=False)\n",
        "      train_loss[epoch], train_acc[epoch] = mlp.train(train_iter, lr, \n",
        "                                                      batch_size,\n",
        "                                                      train_mode=True)\n",
        "      \n",
        "      # If set to print out info as executing\n",
        "      if verbose:\n",
        "        print('{} \\t{:9.3f} \\t{:9.3f} \\t {:9.3f} \\t{:9.3f}'.format(\n",
        "            epoch, train_loss[epoch], train_acc[epoch], \n",
        "            valid_loss[epoch], valid_acc[epoch]))\n",
        "      \n",
        "      # Check for explosion or vanishing\n",
        "      if np.isnan(train_loss[epoch]) or np.isinf(train_loss[epoch]):       \n",
        "        raise Exception('Loss has become NaN or infinity! Stop training.')\n",
        "\n",
        "    # Print amount of time taken\n",
        "    print('Time elapsed (s): {:2.1f}\\n'.format(time.time() - start_time))\n",
        "\n",
        "\n",
        "    return train_loss, train_acc, valid_loss, valid_acc\n",
        "  \n",
        "  @staticmethod\n",
        "  def make_one_hot(y):\n",
        "    '''\n",
        "    Make a traditional container of labels into a one-hot representation.\n",
        "    \n",
        "    Args:\n",
        "      y (list or tuple): Container of labels to convert\n",
        "\n",
        "    Returns:\n",
        "      Transformed array in one-hot representation\n",
        "    \n",
        "    '''\n",
        "    transformed = np.zeros((y.size, y.max() + 1))\n",
        "    transformed[np.arange(y.size), y] = 1\n",
        "    return transformed.T\n",
        "\n",
        "  @staticmethod\n",
        "  def reverse_one_hot(y):\n",
        "    '''\n",
        "    Convert a one-hot array back to a simple list of indices.\n",
        "\n",
        "    Args:\n",
        "      y (ndarray): Array to convert\n",
        "    \n",
        "    Returns:\n",
        "      Transformed array as a sequence of indexes\n",
        "\n",
        "    '''\n",
        "    return np.argmax(y, axis=0)\n",
        "\n",
        "  @staticmethod\n",
        "  def plot_results(results, labels=None, fmts=None, xlabel='Epoch', ylabel='',\n",
        "                   ymax=None, title=''):\n",
        "    \n",
        "    '''\n",
        "    Plot one or more results\n",
        "\n",
        "    Args:\n",
        "      results (list or tuple): Container of ndarray results to plot\n",
        "      labels (list or tuple): Container of strings, each a label corresponding\n",
        "        to each result to be displayed in the legend\n",
        "      fmts (list or tuple): Container of strings matching the matplotlib's\n",
        "        line, color, and marker styles. None to use default\n",
        "      xlabel (str): Label on x-axis\n",
        "      ylabel (str): Label on y-axis\n",
        "      ymax (float): Maximum bound to set y-axis to. None to use automatic\n",
        "        settings\n",
        "      title (str): Title of plot\n",
        "\n",
        "    '''\n",
        "    # Account for arguments not given\n",
        "    if labels is None: \n",
        "      labels = (str(_) for _ in range(len(results)))\n",
        "    else:\n",
        "      assert len(results) == len(labels)\n",
        "\n",
        "    if fmts is None:\n",
        "      fmts = ('' for _ in range(len(results)))\n",
        "    else:\n",
        "      assert len(results) == len(fmts)\n",
        "\n",
        "    # Plot each set of results with its corresponding label and format\n",
        "    for result, label, fmt in zip(results, labels, fmts):\n",
        "      plt.plot(np.arange(result.shape[0]), result, fmt, label=label)\n",
        "\n",
        "    # Parameters affecting entire plot\n",
        "    plt.legend(framealpha=0.5)\n",
        "    plt.xlabel(xlabel)\n",
        "    plt.ylabel(ylabel)\n",
        "    plt.title(title)  \n",
        "    if ymax is not None:\n",
        "      plt.ylim(0, ymax)\n",
        "\n",
        "  @staticmethod\n",
        "  def plot_images(data, images=3, show_random=False, mlp=None, cols=5):\n",
        "    '''\n",
        "    Plot using the flattened representation of a square image in input X.\n",
        "\n",
        "    Args:\n",
        "      data: Dataset object to select a random sample from\n",
        "      images (int): Number of images to sample and show\n",
        "      mlp: Perceptron object to pass images through. None to not make any\n",
        "        predictions and just show the true labels instead.\n",
        "\n",
        "    '''\n",
        "    if show_random: # Get random sample from dataset\n",
        "      indexes = np.random.randint(0, data.X.shape[-1], images)\n",
        "    else: # Get first images in range from dataset\n",
        "      indexes = tuple(range(images))\n",
        "\n",
        "    sample_X, sample_y = data.X[:, indexes], data.y[:, indexes]\n",
        "    sample_y = Utility.reverse_one_hot(sample_y)\n",
        "\n",
        "    # Pass selected images through MLP to get predictions, if requested\n",
        "    if mlp is not None:\n",
        "      mlp.forward(sample_X, sample_X.shape[-1])\n",
        "      sample_yhat = Loss.accuracy(mlp[-1].a, sample_y, False, True)\n",
        "\n",
        "    # Display data as images\n",
        "    width = int(data.X.shape[0]**0.5)\n",
        "    for i in range(images):  \n",
        "      plt.subplot(np.ceil(images/cols).astype(int), cols, i + 1)\n",
        "      plt.axis('off')\n",
        "      plt.imshow(sample_X[:, i].reshape(width, width), \n",
        "                 cmap=plt.get_cmap('gray'))\n",
        "      \n",
        "      # Title each image with its true label      \n",
        "      if mlp is not None:\n",
        "          plt.title('true: {}\\npredict: {}'.format(sample_y[i], sample_yhat[i]))\n",
        "      else:\n",
        "          plt.title('true: {}'.format(sample_y[i]))\n",
        "\n",
        "    plt.subplots_adjust(hspace=1.0)"
      ],
      "metadata": {
        "id": "QMGZb_cJCAL7"
      },
      "execution_count": null,
      "outputs": []
    },
    {
      "cell_type": "markdown",
      "source": [
        "## 1.5 Dataset class"
      ],
      "metadata": {
        "id": "I9ZZcb30LB9b"
      }
    },
    {
      "cell_type": "code",
      "source": [
        "class Dataset(object):\n",
        "  '''\n",
        "  Represents a set of data with methods to reshape, split, and train.\n",
        "\n",
        "  '''\n",
        "  def __init__(self, X, y, make_y_one_hot=True, scale_X=True, \n",
        "               max_intensity=255.):\n",
        "    '''\n",
        "    Constructs a Dataset object.\n",
        "    \n",
        "    Args:\n",
        "      X (ndarray): Input data\n",
        "      y (ndarray): Labels corresponding to input data\n",
        "      make_y_one_hot (bool): True to convert the labels into a one-hot \n",
        "        representation, if not done already; false to skip this step\n",
        "      scale_X (bool): True to convert image inputs to be between 0 and 1\n",
        "      max_intensity (float): Maximum intensity of input. Default = 255.\n",
        "    '''\n",
        "    self.X = X\n",
        "    self.y = y\n",
        "    self.X_train = None\n",
        "    self.y_train = None\n",
        "    self.X_valid = None\n",
        "    self.y_valid = None\n",
        "    self.X_test = None\n",
        "    self.y_test = None\n",
        "\n",
        "    if make_y_one_hot:\n",
        "      self.y = Utility.make_one_hot(self.y)\n",
        "    if scale_X:\n",
        "      self.X = self.X.astype('float64') / max_intensity\n",
        "\n",
        "  def shape(self, features, categories, flatten_X=True):\n",
        "    '''\n",
        "    Reshapes the input and output data.\n",
        "\n",
        "    Args:\n",
        "      features: Number of features in the input data. Set to width of a 2D image\n",
        "        if it will be flattened.\n",
        "      categories: Number of categories in the classification problem\n",
        "      flatten_X: True to flatten a 2D image into a 1D array\n",
        "\n",
        "    '''\n",
        "    if flatten_X: \n",
        "      self.X = self.X.reshape(-1, features*features).T\n",
        "    else:\n",
        "      self.X = self.X.reshape(features, -1)\n",
        "    self.y = self.y.reshape(categories, -1)\n",
        "\n",
        "  def shuffle(self):\n",
        "    '''\n",
        "    Shuffles both X and y together in the dataset.\n",
        "\n",
        "    '''\n",
        "    assert self.X.shape[-1] == self.y.shape[-1]\n",
        "    shuffled_indexes = np.random.permutation(self.X.shape[-1])\n",
        "    self.X = self.X[:, shuffled_indexes]\n",
        "    self.y = self.y[:, shuffled_indexes]\n",
        "\n",
        "  def divide(self, p_train=70, p_valid=15, p_test=15):\n",
        "    '''\n",
        "    Divide the loaded data into sets for training, validation, and testing.\n",
        "\n",
        "    Args:\n",
        "      p_train (int): Percentage of data to allot for training\n",
        "      p_valid (int): Percentage of data to allot for validation\n",
        "      p_test (int): Percentage of data to allot for testing\n",
        "\n",
        "    '''\n",
        "    if (p_train + p_valid + p_test != 100):\n",
        "      raise ValueError('Error: percentages don''t sum up to 100!')\n",
        "    n_train = int(p_train * 0.01 * self.X.shape[-1])\n",
        "    n_valid = int(p_valid * 0.01 * self.X.shape[-1])\n",
        "    n_test = int(p_test * 0.01 * self.X.shape[-1])\n",
        "\n",
        "    # If missing a few examples from cutoffs, add to training set\n",
        "    test_diff = self.X.shape[-1] - (n_train + n_valid + n_test)\n",
        "    if test_diff > 0:\n",
        "      n_train += test_diff\n",
        "\n",
        "    # Define groups\n",
        "    self.X_train = self.X[:, 0:n_train]\n",
        "    self.y_train = self.y[:, 0:n_train]\n",
        "    self.X_valid = self.X[:, n_train:(n_train + n_valid)]\n",
        "    self.y_valid = self.y[:, n_train:(n_train + n_valid)]\n",
        "    self.X_test = self.X[:, (n_train + n_valid): ]\n",
        "    self.y_test = self.y[:, (n_train + n_valid): ]\n",
        "    \n",
        "  def make_batches(self, batch_size, group='train', shuffle_again=True):\n",
        "    '''\n",
        "    Make batches given a specified size and a selected group.\n",
        "\n",
        "    Args: \n",
        "      batch_size (int): Batch size to divide data into\n",
        "      group (str): Either train, valid, or test to select group\n",
        "      shuffle_again (bool): True to shuffle data within its group when \n",
        "        a new set of batches is made\n",
        "\n",
        "    Returns:\n",
        "      Generator of batches in the specified size from the specified group.\n",
        "\n",
        "    '''\n",
        "    # Get the training, testing, or validation group:\n",
        "    if group == 'train':\n",
        "      X_select, y_select = self.X_train, self.y_train\n",
        "    elif group == 'valid':\n",
        "      X_select, y_select = self.X_valid, self.y_valid\n",
        "    elif group == 'test':\n",
        "      X_select, y_select = self.X_test, self.y_test\n",
        "    else:\n",
        "      raise ValueError('Incorrect argument for group! Choose between train, '\n",
        "                       'validate, or test.')\n",
        "\n",
        "    # Shuffle within the group, if specified\n",
        "    if shuffle_again:\n",
        "      shuffled_indexes = np.random.permutation(X_select.shape[-1])\n",
        "      X_select = X_select[:, shuffled_indexes]\n",
        "      y_select = y_select[:, shuffled_indexes]\n",
        "\n",
        "    # Make generators for the features and labels of the selected set\n",
        "    for i in range(0, X_select.shape[-1], batch_size):\n",
        "      yield X_select[:, i:i+batch_size], y_select[:, i:i+batch_size]"
      ],
      "metadata": {
        "id": "hp-u4Odi4MHf"
      },
      "execution_count": null,
      "outputs": []
    },
    {
      "cell_type": "markdown",
      "source": [
        "# 2. Testing the API"
      ],
      "metadata": {
        "id": "ejKqz_Tv2A3L"
      }
    },
    {
      "cell_type": "markdown",
      "source": [
        "## 2.1 Import the MNIST dataset\n",
        "*   Permitted to use outside packages for downloading MNIST data, so use `keras`.\n",
        "*   Merge existing training and test sets and resplit, since splitting must be done by this homework's API.\n",
        "\n"
      ],
      "metadata": {
        "id": "gTQjTpXU-mC4"
      }
    },
    {
      "cell_type": "code",
      "source": [
        "from keras.datasets import mnist\n",
        "(train_X, train_y), (test_X, test_y) = mnist.load_data()\n",
        "print(train_X.shape, train_y.shape, test_X.shape, test_y.shape)"
      ],
      "metadata": {
        "id": "UFHR62sWB4eT",
        "colab": {
          "base_uri": "https://localhost:8080/"
        },
        "outputId": "0eeaa79b-f640-4e03-8839-cd266c7d9682"
      },
      "execution_count": null,
      "outputs": [
        {
          "output_type": "stream",
          "name": "stdout",
          "text": [
            "(60000, 28, 28) (60000,) (10000, 28, 28) (10000,)\n"
          ]
        }
      ]
    },
    {
      "cell_type": "code",
      "source": [
        "mnist_all_X = np.concatenate((train_X, test_X), axis=0)\n",
        "mnist_all_y = np.concatenate((train_y, test_y), axis=0)\n",
        "print('MNIST features reshaped:', mnist_all_X.shape, \n",
        "      '\\nMNIST labels reshaped:', mnist_all_y.shape)"
      ],
      "metadata": {
        "id": "jqrK7cd-E0BJ",
        "colab": {
          "base_uri": "https://localhost:8080/"
        },
        "outputId": "f3c35232-2f2c-495b-ca29-05256c7d5d8e"
      },
      "execution_count": null,
      "outputs": [
        {
          "output_type": "stream",
          "name": "stdout",
          "text": [
            "MNIST features reshaped: (70000, 28, 28) \n",
            "MNIST labels reshaped: (70000,)\n"
          ]
        }
      ]
    },
    {
      "cell_type": "markdown",
      "source": [
        "## 2.2 Preprocessing"
      ],
      "metadata": {
        "id": "aOpXBwW6FMLR"
      }
    },
    {
      "cell_type": "code",
      "source": [
        "# Make a Dataset object\n",
        "mnist_set = Dataset(mnist_all_X, mnist_all_y)\n",
        "\n",
        "# Reshape the data\n",
        "width = 28\n",
        "categories = 10\n",
        "mnist_set.shape(width, categories, True)\n",
        "print(\"Feature and label shapes:\", mnist_set.X.shape, mnist_set.y.shape)\n",
        "\n",
        "# Visualize the first five images\n",
        "Utility.plot_images(mnist_set, 5)"
      ],
      "metadata": {
        "id": "cueDPZa2qKnz",
        "colab": {
          "base_uri": "https://localhost:8080/",
          "height": 118
        },
        "outputId": "ff601086-c7e2-4c9a-cf2c-8c702a5f892a"
      },
      "execution_count": null,
      "outputs": [
        {
          "output_type": "stream",
          "name": "stdout",
          "text": [
            "Feature and label shapes: (784, 70000) (10, 70000)\n"
          ]
        },
        {
          "output_type": "display_data",
          "data": {
            "image/png": "[encoded data removed]",
            "text/plain": [
              "<Figure size 432x288 with 5 Axes>"
            ]
          },
          "metadata": {
            "needs_background": "light"
          }
        }
      ]
    },
    {
      "cell_type": "code",
      "source": [
        "# Shuffle the data\n",
        "mnist_set.shuffle()\n",
        "Utility.plot_images(mnist_set, 5)\n",
        "\n",
        "# Divide the data\n",
        "mnist_set.divide()\n",
        "print('Splits on training, validation, & testing:', \n",
        "      mnist_set.X_train.shape, mnist_set.X_valid.shape, mnist_set.X_test.shape)"
      ],
      "metadata": {
        "colab": {
          "base_uri": "https://localhost:8080/",
          "height": 118
        },
        "id": "hdfxOsqgu84r",
        "outputId": "00098ce3-b209-492a-a914-7802b36cb983"
      },
      "execution_count": null,
      "outputs": [
        {
          "output_type": "stream",
          "name": "stdout",
          "text": [
            "Splits on training, validation, & testing: (784, 49000) (784, 10500) (784, 10500)\n"
          ]
        },
        {
          "output_type": "display_data",
          "data": {
            "image/png": "[encoded data removed]",
            "text/plain": [
              "<Figure size 432x288 with 5 Axes>"
            ]
          },
          "metadata": {
            "needs_background": "light"
          }
        }
      ]
    },
    {
      "cell_type": "markdown",
      "source": [
        "## 2.3 Training and validation"
      ],
      "metadata": {
        "id": "pH2B2SnNKrVc"
      }
    },
    {
      "cell_type": "code",
      "source": [
        "# Hyperparameters to use throughout all models\n",
        "batch = 100\n",
        "epochs = 10"
      ],
      "metadata": {
        "id": "d9X_NnwzaQwc"
      },
      "execution_count": null,
      "outputs": []
    },
    {
      "cell_type": "markdown",
      "source": [
        "### 2.3.1 Varying the learning rate"
      ],
      "metadata": {
        "id": "D6yuzi4ey9Cl"
      }
    },
    {
      "cell_type": "code",
      "source": [
        "dims = (width*width, 128, 64, 10)\n",
        "activ_fns = (Activation.relu, Activation.relu, Activation.softmax)\n",
        "\n",
        "# Make a generic neural network with two hidden layers\n",
        "p_128_64 = Perceptron(dims, activ_fns, Loss.cross_entropy)\n",
        "\n",
        "# Different learning rates to test\n",
        "lr_results = {}\n",
        "lrs = (5e-4, 0.002, 0.01)\n",
        "for lr in lrs:\n",
        "  p_128_64.reset() # Reinitialize parameters\n",
        "  lr_results[lr] = Utility.train_and_validate(p_128_64, mnist_set, \n",
        "                                              lr, epochs, batch)"
      ],
      "metadata": {
        "id": "kEKW_IuKy_an",
        "colab": {
          "base_uri": "https://localhost:8080/"
        },
        "outputId": "6f2d9047-ff8a-43f9-bf0a-f64a2fe7296a"
      },
      "execution_count": null,
      "outputs": [
        {
          "output_type": "stream",
          "name": "stdout",
          "text": [
            "Epoch \tTrain_loss \tTrain_acc \tValid_loss \tValid_acc\n",
            "0 \t    3.693 \t    0.174 \t     6.255 \t    0.063\n",
            "1 \t    2.030 \t    0.411 \t     2.552 \t    0.306\n",
            "2 \t    1.495 \t    0.540 \t     1.744 \t    0.482\n",
            "3 \t    1.234 \t    0.613 \t     1.395 \t    0.573\n",
            "4 \t    1.078 \t    0.660 \t     1.200 \t    0.627\n",
            "5 \t    0.973 \t    0.693 \t     1.075 \t    0.665\n",
            "6 \t    0.897 \t    0.717 \t     0.986 \t    0.692\n",
            "7 \t    0.839 \t    0.735 \t     0.919 \t    0.715\n",
            "8 \t    0.793 \t    0.751 \t     0.866 \t    0.733\n",
            "9 \t    0.755 \t    0.763 \t     0.824 \t    0.746\n",
            "Time elapsed (s): 23.3\n",
            "\n",
            "Epoch \tTrain_loss \tTrain_acc \tValid_loss \tValid_acc\n",
            "0 \t    2.039 \t    0.431 \t     6.605 \t    0.113\n",
            "1 \t    0.966 \t    0.693 \t     1.205 \t    0.620\n",
            "2 \t    0.763 \t    0.760 \t     0.877 \t    0.721\n",
            "3 \t    0.665 \t    0.792 \t     0.744 \t    0.768\n",
            "4 \t    0.606 \t    0.812 \t     0.669 \t    0.791\n",
            "5 \t    0.564 \t    0.827 \t     0.617 \t    0.808\n",
            "6 \t    0.532 \t    0.836 \t     0.580 \t    0.821\n",
            "7 \t    0.508 \t    0.844 \t     0.552 \t    0.829\n",
            "8 \t    0.487 \t    0.851 \t     0.529 \t    0.838\n",
            "9 \t    0.471 \t    0.857 \t     0.511 \t    0.843\n",
            "Time elapsed (s): 23.1\n",
            "\n",
            "Epoch \tTrain_loss \tTrain_acc \tValid_loss \tValid_acc\n",
            "0 \t    1.064 \t    0.705 \t     7.691 \t    0.102\n",
            "1 \t    0.520 \t    0.844 \t     0.624 \t    0.814\n",
            "2 \t    0.440 \t    0.867 \t     0.500 \t    0.850\n",
            "3 \t    0.397 \t    0.879 \t     0.442 \t    0.867\n",
            "4 \t    0.371 \t    0.888 \t     0.419 \t    0.875\n",
            "5 \t    0.351 \t    0.894 \t     0.392 \t    0.881\n",
            "6 \t    0.335 \t    0.899 \t     0.374 \t    0.886\n",
            "7 \t    0.323 \t    0.902 \t     0.356 \t    0.894\n",
            "8 \t    0.313 \t    0.905 \t     0.350 \t    0.896\n",
            "9 \t    0.304 \t    0.908 \t     0.340 \t    0.898\n",
            "Time elapsed (s): 23.0\n",
            "\n"
          ]
        }
      ]
    },
    {
      "cell_type": "code",
      "source": [
        "# Plot training loss for the different learning rates used\n",
        "Utility.plot_results([lr_results[_][0] for _ in lrs],\n",
        "                     labels=['lr=' + str(lr) + ', training' for lr in lrs],\n",
        "                     fmts=['-' + _ for _ in ('b', 'r', 'g')])\n",
        "\n",
        "Utility.plot_results([lr_results[_][2] for _ in lrs],\n",
        "                     labels=['lr=' + str(lr) + ', validation' for lr in lrs],\n",
        "                     ylabel='Cross-entropy loss', ymax=4.0,\n",
        "                     fmts=['.' + _ for _ in ('b', 'r', 'g')],\n",
        "                     title='Effect of learning rate on loss')"
      ],
      "metadata": {
        "id": "jqvZ1K3zp_SC",
        "colab": {
          "base_uri": "https://localhost:8080/",
          "height": 404
        },
        "outputId": "cb9b809d-614e-41f8-96cf-3c44621f6592"
      },
      "execution_count": null,
      "outputs": [
        {
          "output_type": "display_data",
          "data": {
            "image/png": "[encoded data removed]",
            "text/plain": [
              "<Figure size 648x432 with 1 Axes>"
            ]
          },
          "metadata": {
            "needs_background": "light"
          }
        }
      ]
    },
    {
      "cell_type": "code",
      "source": [
        "# Plot training accuracy for the different learning rates used\n",
        "Utility.plot_results([lr_results[_][1] for _ in lrs],\n",
        "                     labels=['lr=' + str(lr) + ', training' for lr in lrs],\n",
        "                     fmts=['-' + _ for _ in ('b', 'r', 'g')])\n",
        "\n",
        "Utility.plot_results([lr_results[_][3] for _ in lrs],\n",
        "                     labels=['lr=' + str(lr) + ', validation' for lr in lrs],\n",
        "                     ylabel='Accuracy', ymax=1.0,\n",
        "                     fmts=['.' + _ for _ in ('b', 'r', 'g')],\n",
        "                     title='Effect of learning rate on accuracy')"
      ],
      "metadata": {
        "id": "YhxS1S9PqsKq",
        "colab": {
          "base_uri": "https://localhost:8080/",
          "height": 404
        },
        "outputId": "7c616675-d788-4299-8fd5-a0fcc87e4c5c"
      },
      "execution_count": null,
      "outputs": [
        {
          "output_type": "display_data",
          "data": {
            "image/png": "[encoded data removed]",
            "text/plain": [
              "<Figure size 648x432 with 1 Axes>"
            ]
          },
          "metadata": {
            "needs_background": "light"
          }
        }
      ]
    },
    {
      "cell_type": "code",
      "source": [
        "# Visualize images from a random sample\n",
        "Utility.plot_images(mnist_set, 20, True, p_128_64)"
      ],
      "metadata": {
        "colab": {
          "base_uri": "https://localhost:8080/",
          "height": 388
        },
        "id": "m2G7NTca8C7L",
        "outputId": "92e08281-0213-40ed-9120-29a619d6042d"
      },
      "execution_count": null,
      "outputs": [
        {
          "output_type": "display_data",
          "data": {
            "image/png": "[encoded data removed]",
            "text/plain": [
              "<Figure size 648x432 with 20 Axes>"
            ]
          },
          "metadata": {
            "needs_background": "light"
          }
        }
      ]
    },
    {
      "cell_type": "markdown",
      "source": [
        "### 2.3.2 Changing the architecture\n",
        "\n",
        "*   Number of hidden layers\n",
        "*   Number of neurons per layer\n",
        "\n"
      ],
      "metadata": {
        "id": "pitXNowVqzBq"
      }
    },
    {
      "cell_type": "code",
      "source": [
        "# Define different architectures to try\n",
        "arch_results = {}\n",
        "lr = 0.001\n",
        "dims_set = ((width*width, 64, 32, 10),\n",
        "            (width*width, 256, 128, 10), \n",
        "            (width*width, 128, 64, 32, 10))\n",
        "activ_fns_set = ((Activation.relu, Activation.relu, Activation.softmax),\n",
        "                 (Activation.relu, Activation.relu, Activation.softmax),\n",
        "                 (Activation.relu, Activation.relu, Activation.relu, Activation.softmax))"
      ],
      "metadata": {
        "id": "49rDxJiRMW1o"
      },
      "execution_count": null,
      "outputs": []
    },
    {
      "cell_type": "code",
      "source": [
        "# Train models, validate\n",
        "for dims, activ_fns in zip(dims_set, activ_fns_set):\n",
        "  p = Perceptron(dims, activ_fns, Loss.cross_entropy)\n",
        "  arch_results[dims] = Utility.train_and_validate(p, mnist_set, \n",
        "                                                  lr, epochs, batch)"
      ],
      "metadata": {
        "colab": {
          "base_uri": "https://localhost:8080/"
        },
        "id": "_YW-XYQst-nF",
        "outputId": "f1ace185-17f5-48e7-9e9c-88ee2b5bb804"
      },
      "execution_count": null,
      "outputs": [
        {
          "output_type": "stream",
          "name": "stdout",
          "text": [
            "Epoch \tTrain_loss \tTrain_acc \tValid_loss \tValid_acc\n",
            "0 \t    2.497 \t    0.163 \t     3.285 \t    0.078\n",
            "1 \t    1.874 \t    0.366 \t     2.123 \t    0.263\n",
            "2 \t    1.535 \t    0.500 \t     1.707 \t    0.435\n",
            "3 \t    1.307 \t    0.585 \t     1.438 \t    0.537\n",
            "4 \t    1.144 \t    0.641 \t     1.250 \t    0.602\n",
            "5 \t    1.024 \t    0.680 \t     1.113 \t    0.648\n",
            "6 \t    0.933 \t    0.709 \t     1.011 \t    0.682\n",
            "7 \t    0.863 \t    0.731 \t     0.932 \t    0.705\n",
            "8 \t    0.807 \t    0.748 \t     0.870 \t    0.726\n",
            "9 \t    0.762 \t    0.762 \t     0.820 \t    0.745\n",
            "Time elapsed (s): 13.4\n",
            "\n",
            "Epoch \tTrain_loss \tTrain_acc \tValid_loss \tValid_acc\n",
            "0 \t    3.255 \t    0.413 \t     8.968 \t    0.061\n",
            "1 \t    1.340 \t    0.681 \t     1.714 \t    0.612\n",
            "2 \t    1.027 \t    0.748 \t     1.192 \t    0.721\n",
            "3 \t    0.883 \t    0.781 \t     0.995 \t    0.764\n",
            "4 \t    0.796 \t    0.802 \t     0.882 \t    0.786\n",
            "5 \t    0.737 \t    0.816 \t     0.810 \t    0.803\n",
            "6 \t    0.692 \t    0.826 \t     0.760 \t    0.814\n",
            "7 \t    0.657 \t    0.834 \t     0.716 \t    0.822\n",
            "8 \t    0.628 \t    0.841 \t     0.682 \t    0.829\n",
            "9 \t    0.604 \t    0.846 \t     0.660 \t    0.835\n",
            "Time elapsed (s): 36.5\n",
            "\n",
            "Epoch \tTrain_loss \tTrain_acc \tValid_loss \tValid_acc\n",
            "0 \t    2.395 \t    0.345 \t     6.073 \t    0.082\n",
            "1 \t    1.337 \t    0.566 \t     1.648 \t    0.482\n",
            "2 \t    1.038 \t    0.663 \t     1.208 \t    0.607\n",
            "3 \t    0.886 \t    0.716 \t     1.008 \t    0.673\n",
            "4 \t    0.793 \t    0.750 \t     0.891 \t    0.717\n",
            "5 \t    0.728 \t    0.773 \t     0.814 \t    0.745\n",
            "6 \t    0.681 \t    0.790 \t     0.759 \t    0.766\n",
            "7 \t    0.644 \t    0.804 \t     0.714 \t    0.782\n",
            "8 \t    0.614 \t    0.814 \t     0.681 \t    0.791\n",
            "9 \t    0.589 \t    0.822 \t     0.653 \t    0.802\n",
            "Time elapsed (s): 21.7\n",
            "\n"
          ]
        }
      ]
    },
    {
      "cell_type": "code",
      "source": [
        "# Plot loss for the different architectures tried\n",
        "Utility.plot_results([arch_results[_][0] for _ in dims_set],\n",
        "                     labels=[str(dims) + ', testing' for dims in dims_set],\n",
        "                     fmts=['-' + _ for _ in ('b', 'r', 'g')])\n",
        "\n",
        "Utility.plot_results([arch_results[_][2] for _ in dims_set],\n",
        "                     labels=[str(dims[1:]) + ', validation' for dims in dims_set],\n",
        "                     fmts=['.' + _ for _ in ('b', 'r', 'g')],\n",
        "                     ylabel='Cross-entropy loss', ymax=4.0,\n",
        "                     title='Effect of architecture on loss')"
      ],
      "metadata": {
        "colab": {
          "base_uri": "https://localhost:8080/",
          "height": 404
        },
        "id": "V7hbTJiRY0vL",
        "outputId": "526b20c8-6b2c-4960-bb0d-d49cda577a59"
      },
      "execution_count": null,
      "outputs": [
        {
          "output_type": "display_data",
          "data": {
            "image/png": "[encoded data removed]",
            "text/plain": [
              "<Figure size 648x432 with 1 Axes>"
            ]
          },
          "metadata": {
            "needs_background": "light"
          }
        }
      ]
    },
    {
      "cell_type": "code",
      "source": [
        "# Plot accuracy for different architectures tried\n",
        "Utility.plot_results([arch_results[_][1] for _ in dims_set],\n",
        "                     labels=[str(dims) + ', testing' for dims in dims_set],\n",
        "                     fmts=['-' + _ for _ in ('b', 'r', 'g')])\n",
        "Utility.plot_results([arch_results[_][3] for _ in dims_set],\n",
        "                     labels=[str(dims) + ', validation' for dims in dims_set],\n",
        "                     fmts=['.' + _ for _ in ('b', 'r', 'g')],\n",
        "                     ylabel='Accuracy', ymax=1.0,\n",
        "                     title='Effect of architecture on accuracy')"
      ],
      "metadata": {
        "colab": {
          "base_uri": "https://localhost:8080/",
          "height": 404
        },
        "id": "g7Q46O1_ZImR",
        "outputId": "9dff792b-251a-40af-e0dc-66c2104d3c34"
      },
      "execution_count": null,
      "outputs": [
        {
          "output_type": "display_data",
          "data": {
            "image/png": "[encoded data removed]",
            "text/plain": [
              "<Figure size 648x432 with 1 Axes>"
            ]
          },
          "metadata": {
            "needs_background": "light"
          }
        }
      ]
    },
    {
      "cell_type": "markdown",
      "source": [
        "## 2.4 Testing\n",
        "\n",
        "Report final numbers after passing the test set through a trained model."
      ],
      "metadata": {
        "id": "Vht3uAq9lT1r"
      }
    },
    {
      "cell_type": "code",
      "source": [
        "# Generate batches from test data, pass through model\n",
        "test_gen = mnist_set.make_batches(batch, 'test')\n",
        "loss, acc = p_128_64.train(test_gen, train_mode=False) \n",
        "print('Cross-entropy loss: {:.3f}\\nAccuracy: {:.3f}'.format(loss, acc))"
      ],
      "metadata": {
        "colab": {
          "base_uri": "https://localhost:8080/"
        },
        "id": "7lA5gz6a0ka_",
        "outputId": "89b40bea-aa6e-43ab-ea00-8f8a6f8313b0"
      },
      "execution_count": null,
      "outputs": [
        {
          "output_type": "stream",
          "name": "stdout",
          "text": [
            "Cross-entropy loss: 0.311\n",
            "Accuracy: 0.909\n"
          ]
        }
      ]
    },
    {
      "cell_type": "markdown",
      "source": [
        "# 3. Appendix\n",
        "\n",
        "Simple tests to check basic functionality with hand calculations."
      ],
      "metadata": {
        "id": "62TdC6i4TRvl"
      }
    },
    {
      "cell_type": "markdown",
      "source": [
        "Hinge loss examples from class on 1/20/22"
      ],
      "metadata": {
        "id": "FrMKJXoC_9wd"
      }
    },
    {
      "cell_type": "code",
      "source": [
        "# 3-class classification example\n",
        "ex1 = np.array([-3.7, 5, 7]).T\n",
        "print('Target class is 3, loss={:0.1f} \\tif 2, {:0.1f} \\tif 1, {:0.1f}'.format(\n",
        "    Loss.hinge_loss(ex1, np.array([0, 0, 1]).T),\n",
        "    Loss.hinge_loss(ex1, np.array([0, 1, 0]).T),\n",
        "    Loss.hinge_loss(ex1, np.array([1, 0, 0]).T)))"
      ],
      "metadata": {
        "id": "nn7mgrr_ABYv",
        "colab": {
          "base_uri": "https://localhost:8080/"
        },
        "outputId": "8f82c88a-6bd3-4947-e32a-fbbd3fde312a"
      },
      "execution_count": null,
      "outputs": [
        {
          "output_type": "stream",
          "name": "stdout",
          "text": [
            "Target class is 3, loss=0.0 \tif 2, 3.0 \tif 1, 21.4\n"
          ]
        }
      ]
    },
    {
      "cell_type": "code",
      "source": [
        "# 4-class classification example\n",
        "ex2 = np.array([2.5, 2.0, 2.7, 1.7]).T\n",
        "print('Target class is 2: {:0.1f}'.format(\n",
        "    Loss.hinge_loss(ex2, np.array([0, 1, 0, 0]).T)))"
      ],
      "metadata": {
        "id": "G3r5ejAXAEZH",
        "colab": {
          "base_uri": "https://localhost:8080/"
        },
        "outputId": "9966943a-5303-4f40-e3e7-f7167bdee375"
      },
      "execution_count": null,
      "outputs": [
        {
          "output_type": "stream",
          "name": "stdout",
          "text": [
            "Target class is 2: 3.9\n"
          ]
        }
      ]
    },
    {
      "cell_type": "markdown",
      "source": [
        "Compute accuracy on two examples, one predicted correctly and one not:"
      ],
      "metadata": {
        "id": "4jOLOwuQF6mN"
      }
    },
    {
      "cell_type": "code",
      "source": [
        "yhat = np.array(((0.2, 0.5, 0.3), (0.7, 0.2, 0.1))).T\n",
        "y = np.array(((0, 1, 0), (0, 1, 0))).T\n",
        "Loss.accuracy(yhat, y)"
      ],
      "metadata": {
        "id": "EpN_cvn8F8_c",
        "colab": {
          "base_uri": "https://localhost:8080/"
        },
        "outputId": "1647d6b8-c3d7-4324-af8c-600b47bd0122"
      },
      "execution_count": null,
      "outputs": [
        {
          "output_type": "execute_result",
          "data": {
            "text/plain": [
              "0.5"
            ]
          },
          "metadata": {},
          "execution_count": 248
        }
      ]
    },
    {
      "cell_type": "markdown",
      "source": [
        "Informal problem given at the end of class, 1/25/22:"
      ],
      "metadata": {
        "id": "Fw_MM8svOBAe"
      }
    },
    {
      "cell_type": "code",
      "source": [
        "p = Perceptron((4, 3, 2, 4), \n",
        "               (Activation.relu, Activation.sigmoid, Activation.softmax), \n",
        "               Loss.cross_entropy, init_with_normal=True)\n",
        "p[1].w = np.array([[1.,0,0,0], [0,1,0,0], [0,0,1,0]])\n",
        "p[2].w = np.array([[1.,0,0], [0,1,0]])\n",
        "p[3].w = np.array([[1.,0], [0,1], [0,0], [0,0]])\n",
        "p.zero_biases()\n",
        "\n",
        "# Check forward path\n",
        "p.forward(np.array([1, 0, 1, 0]).reshape(-1, 1), batch_size=1)\n",
        "for i in range(1, len(p.dims)):\n",
        "  print('Layer', i, '\\nz =\\n', p[i].z, '\\na =\\n', p[i].a, '\\n')"
      ],
      "metadata": {
        "id": "Z6ZL6w-XMa9B",
        "colab": {
          "base_uri": "https://localhost:8080/"
        },
        "outputId": "9bc119a4-091c-4953-c371-dddd7b2031c9"
      },
      "execution_count": null,
      "outputs": [
        {
          "output_type": "stream",
          "name": "stdout",
          "text": [
            "Layer 1 \n",
            "z =\n",
            " [[1.]\n",
            " [0.]\n",
            " [1.]] \n",
            "a =\n",
            " [[1.]\n",
            " [0.]\n",
            " [1.]] \n",
            "\n",
            "Layer 2 \n",
            "z =\n",
            " [[1.]\n",
            " [0.]] \n",
            "a =\n",
            " [[0.73105858]\n",
            " [0.5       ]] \n",
            "\n",
            "Layer 3 \n",
            "z =\n",
            " [[0.73105858]\n",
            " [0.5       ]\n",
            " [0.        ]\n",
            " [0.        ]] \n",
            "a =\n",
            " [[0.36278004]\n",
            " [0.28793597]\n",
            " [0.17464199]\n",
            " [0.17464199]] \n",
            "\n"
          ]
        }
      ]
    },
    {
      "cell_type": "code",
      "source": [
        "# Check backpropagation\n",
        "y = np.array([0., 1., 0., 0.]).reshape(-1, 1) # Dummy one-hot label\n",
        "print('p[1].w before backprop\\n', p[1].w)\n",
        "p.backward(y, lr=0.5, batch_size=1)\n",
        "print('p[1].w after backprop\\n', p[1].w)\n",
        "\n",
        "Activation.softmax(p[3].w @ p[2].a + p[3].b)"
      ],
      "metadata": {
        "colab": {
          "base_uri": "https://localhost:8080/"
        },
        "id": "FDOfKgdXt6Gf",
        "outputId": "dc55818a-26de-4102-8f22-102cdb88164f"
      },
      "execution_count": null,
      "outputs": [
        {
          "output_type": "stream",
          "name": "stdout",
          "text": [
            "p[1].w before backprop\n",
            " [[1. 0. 0. 0.]\n",
            " [0. 1. 0. 0.]\n",
            " [0. 0. 1. 0.]]\n",
            "p[1].w after backprop\n",
            " [[1.14602577 0.         0.14602577 0.        ]\n",
            " [0.44348754 1.         0.44348754 0.        ]\n",
            " [0.19954557 0.         1.19954557 0.        ]]\n"
          ]
        },
        {
          "output_type": "execute_result",
          "data": {
            "text/plain": [
              "array([[0.23755303],\n",
              "       [0.49192843],\n",
              "       [0.13525927],\n",
              "       [0.13525927]])"
            ]
          },
          "metadata": {},
          "execution_count": 250
        }
      ]
    }
  ]
}