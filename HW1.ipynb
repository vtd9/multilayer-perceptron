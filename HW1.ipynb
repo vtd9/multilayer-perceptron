{
  "nbformat": 4,
  "nbformat_minor": 0,
  "metadata": {
    "colab": {
      "name": "HW1.ipynb",
      "provenance": [],
      "collapsed_sections": [],
      "authorship_tag": "ABX9TyOlUO52Vpd78sc5px5lxwFd"
    },
    "kernelspec": {
      "name": "python3",
      "display_name": "Python 3"
    },
    "language_info": {
      "name": "python"
    }
  },
  "cells": [
    {
      "cell_type": "markdown",
      "source": [
        "Assignment 1\n",
        "\n",
        "CS 637, Spring 2022\n",
        "\n",
        "Due 2/24/22\n",
        "\n",
        "1) Implement an API to create a fully-connected multilayer perceptron (MLP) for a *k*-class classification problem.\n",
        "\n",
        "2) Test this API on MNIST data."
      ],
      "metadata": {
        "id": "GnTdZZ4lrWeB"
      }
    },
    {
      "cell_type": "code",
      "source": [
        "# Import dependencies\n",
        "import numpy as np\n",
        "from math import exp"
      ],
      "metadata": {
        "id": "WDcWMVP-46qe"
      },
      "execution_count": 1,
      "outputs": []
    },
    {
      "cell_type": "markdown",
      "source": [
        "# Architecture"
      ],
      "metadata": {
        "id": "OHuM8L8m3E5p"
      }
    },
    {
      "cell_type": "code",
      "source": [
        "class Perceptron(object):\n",
        "  def __init__(self, n_layers, dimensions):\n",
        "    self.n_layers = n_layers\n",
        "    self.dimensions = dimensions\n",
        "\n",
        "    # Check user inputs correct in dimensionality\n",
        "    if self.n_layers != self.dimensions.size:\n",
        "      raise ValueError(\n",
        "          'Number of layers and array of dimensions must correspond in size!')\n",
        "  \n",
        "  def summarize(self):\n",
        "    print('MLP has {} layers with dimensions of {}, respectively.'.format(\n",
        "        self.n_layers, self.dimensions))"
      ],
      "metadata": {
        "id": "nQBWGbFi3IeA"
      },
      "execution_count": 43,
      "outputs": []
    },
    {
      "cell_type": "markdown",
      "source": [
        "# Activation Functions"
      ],
      "metadata": {
        "id": "0PiGc8RLrRS6"
      }
    },
    {
      "cell_type": "code",
      "execution_count": 8,
      "metadata": {
        "id": "EqyCxuSMrIML"
      },
      "outputs": [],
      "source": [
        "class Activation(object):\n",
        "  def __init__(self, choice):\n",
        "    self.choice = choice\n",
        "  \n",
        "  def get_choice(self):\n",
        "    return self.choice\n",
        "\n",
        "  def relu(self, x):\n",
        "    if x < 0: return 0\n",
        "    else: return x\n",
        "  \n",
        "  def sigmoid(self, x):\n",
        "    return 1 / (1 + exp(-x))"
      ]
    },
    {
      "cell_type": "markdown",
      "source": [
        "# Loss Functions"
      ],
      "metadata": {
        "id": "OzvHXoC25S1d"
      }
    },
    {
      "cell_type": "code",
      "source": [
        "class Loss(object):\n",
        "  def __init__(self, choice):\n",
        "    self.choice = choice\n",
        "\n",
        "  def cross_entropy(self):\n",
        "    pass\n",
        "    \n",
        "  def hinge_loss(self):\n",
        "    pass"
      ],
      "metadata": {
        "id": "VhBRlnHL5VGa"
      },
      "execution_count": 2,
      "outputs": []
    },
    {
      "cell_type": "markdown",
      "source": [
        "# Test"
      ],
      "metadata": {
        "id": "ejKqz_Tv2A3L"
      }
    },
    {
      "cell_type": "code",
      "source": [
        "pig = Perceptron(2, np.array([2, 3]))\n",
        "pig.summarize()\n"
      ],
      "metadata": {
        "colab": {
          "base_uri": "https://localhost:8080/"
        },
        "id": "oSd1AW0r1e_-",
        "outputId": "5d737cc5-1a9c-44ed-8d37-06f07c1e7cd6"
      },
      "execution_count": 46,
      "outputs": [
        {
          "output_type": "stream",
          "name": "stdout",
          "text": [
            "MLP has 2 layers with dimensions of [2 3], respectively.\n"
          ]
        }
      ]
    }
  ]
}