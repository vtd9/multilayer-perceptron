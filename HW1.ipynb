{
  "cells": [
    {
      "cell_type": "markdown",
      "metadata": {
        "id": "GnTdZZ4lrWeB"
      },
      "source": [
        "# Homework 1\n",
        "\n",
        "CS 637, Spring 2022\n",
        "\n",
        "Due 3/3/21\n",
        "\n",
        "1) Implement an API to create a fully-connected multilayer perceptron (MLP) for a *k*-class classification problem.\n",
        "\n",
        "2) Test this implementation on MNIST data."
      ]
    },
    {
      "cell_type": "markdown",
      "metadata": {
        "id": "aB0N4lx1NH_t"
      },
      "source": [
        "Notation\n",
        "\n",
        "*  `w`: weights\n",
        "*  `b`: biases\n",
        "*  `z`: aggregated values\n",
        "*  `a`: activated values\n",
        "*  `x`: input to a neural network\n",
        "*  `yhat`: output from a neural network (i.e., *after* softmax if applied)"
      ]
    },
    {
      "cell_type": "code",
      "execution_count": 1,
      "metadata": {
        "colab": {
          "base_uri": "https://localhost:8080/"
        },
        "id": "TgctEtzix4yX",
        "outputId": "e173d456-425d-40db-bfe6-7881b2edfd08"
      },
      "outputs": [
        {
          "name": "stdout",
          "output_type": "stream",
          "text": [
            "Obtaining file:///C:/Users/RrbDellDesktop3/Documents/school/CS_637/hw1/mlp_api\n",
            "  Preparing metadata (setup.py): started\n",
            "  Preparing metadata (setup.py): finished with status 'done'\n",
            "Installing collected packages: mlp-api\n",
            "  Attempting uninstall: mlp-api\n",
            "    Found existing installation: mlp-api 0.1\n",
            "    Uninstalling mlp-api-0.1:\n",
            "      Successfully uninstalled mlp-api-0.1\n",
            "  Running setup.py develop for mlp-api\n",
            "Successfully installed mlp-api-0.1\n"
          ]
        }
      ],
      "source": [
        "# Install my API\n",
        "!pip install -e mlp_api"
      ]
    },
    {
      "cell_type": "code",
      "execution_count": 1,
      "metadata": {
        "id": "4vMcH_aF0w60"
      },
      "outputs": [],
      "source": [
        "import site\n",
        "site.main()\n",
        "from mlp_api import *"
      ]
    },
    {
      "cell_type": "code",
      "execution_count": 2,
      "metadata": {
        "id": "WDcWMVP-46qe"
      },
      "outputs": [],
      "source": [
        "# Import other dependencies\n",
        "import numpy as np\n",
        "import gzip\n",
        "import matplotlib.pyplot as plt\n",
        "plt.rcParams[\"figure.figsize\"] = (9, 6) # Set size of plots in notebook"
      ]
    },
    {
      "cell_type": "markdown",
      "metadata": {
        "id": "OHuM8L8m3E5p"
      },
      "source": [
        "# 1. API"
      ]
    },
    {
      "cell_type": "code",
      "execution_count": null,
      "metadata": {
        "colab": {
          "base_uri": "https://localhost:8080/"
        },
        "id": "aQyT3KsAJxc3",
        "outputId": "528fba08-0031-47b7-fc86-da2a0ed137f3"
      },
      "outputs": [],
      "source": [
        "# TEMP: hinge loss bumbling\n",
        "yhat = np.random.normal(size=(4,3)).T\n",
        "y = np.zeros((4, 3)).T\n",
        "y[0, 0] = 1\n",
        "y[2, 1] = 1\n",
        "y[1, 2] = 1\n",
        "y[0, 3] = 1\n",
        "yhat, y"
      ]
    },
    {
      "cell_type": "code",
      "execution_count": null,
      "metadata": {
        "colab": {
          "base_uri": "https://localhost:8080/"
        },
        "id": "iWaqnbauNR8q",
        "outputId": "09030b6e-64c6-4f63-b305-9e54d559dbcc"
      },
      "outputs": [],
      "source": [
        "# TEMP\n",
        "y_target = np.sum(np.where(y == 1, yhat, 0), axis=0)\n",
        "dist = np.where(y == 1, 0, yhat - y_target + 1.)\n",
        "maybe_deriv = np.where(y == 1, np.sum(dist > 0, axis=0), dist > 0)\n",
        "dist, maybe_deriv"
      ]
    },
    {
      "cell_type": "markdown",
      "metadata": {
        "id": "ejKqz_Tv2A3L"
      },
      "source": [
        "# 2. Testing the API"
      ]
    },
    {
      "cell_type": "markdown",
      "metadata": {
        "id": "gTQjTpXU-mC4"
      },
      "source": [
        "## 2.1 Import the MNIST dataset\n",
        "*   Downloaded the four files from http://yann.lecun.com/exdb/mnist/.\n",
        "*   Used `gzip` to read the files, then numpy to merge them again since splitting must be done my API.\n",
        "*   Image ubyte files are offset by 16; labels by 8.\n"
      ]
    },
    {
      "cell_type": "code",
      "execution_count": 13,
      "metadata": {
        "colab": {
          "base_uri": "https://localhost:8080/"
        },
        "id": "UFHR62sWB4eT",
        "outputId": "9ddbd839-7520-4533-c2d6-d2b0e08564a8"
      },
      "outputs": [
        {
          "name": "stdout",
          "output_type": "stream",
          "text": [
            "(60000, 28, 28) (60000,) (10000, 28, 28) (10000,)\n"
          ]
        }
      ],
      "source": [
        "def read_gz(file, img_size=28, labels=False):\n",
        "    f = gzip.open(file,'r')\n",
        "    if labels:\n",
        "        f.read(8)\n",
        "        buffer = f.read()\n",
        "        return np.frombuffer(buffer, dtype=np.uint8)\n",
        "    else:\n",
        "        f.read(16)\n",
        "        buffer = f.read()\n",
        "        return np.frombuffer(buffer, dtype=np.uint8).reshape(-1, img_size, img_size)\n",
        "\n",
        "train_X = read_gz('mnist/train-images-idx3-ubyte.gz')\n",
        "train_y = read_gz('mnist/train-labels-idx1-ubyte.gz', labels=True)\n",
        "test_X = read_gz('mnist/t10k-images-idx3-ubyte.gz')\n",
        "test_y = read_gz('mnist/t10k-labels-idx1-ubyte.gz', labels=True)\n",
        "print(train_X.shape, train_y.shape, test_X.shape, test_y.shape)"
      ]
    },
    {
      "cell_type": "code",
      "execution_count": 15,
      "metadata": {
        "colab": {
          "base_uri": "https://localhost:8080/"
        },
        "id": "jqrK7cd-E0BJ",
        "outputId": "d5afab16-3784-4f70-9482-d06e7f476263"
      },
      "outputs": [
        {
          "name": "stdout",
          "output_type": "stream",
          "text": [
            "MNIST features reshaped: (70000, 28, 28) \n",
            "MNIST labels reshaped: (70000,)\n"
          ]
        }
      ],
      "source": [
        "mnist_all_X = np.concatenate((train_X, test_X), axis=0)\n",
        "mnist_all_y = np.concatenate((train_y, test_y), axis=0)\n",
        "print('MNIST features reshaped:', mnist_all_X.shape, \n",
        "      '\\nMNIST labels reshaped:', mnist_all_y.shape)"
      ]
    },
    {
      "cell_type": "markdown",
      "metadata": {
        "id": "aOpXBwW6FMLR"
      },
      "source": [
        "## 2.2 Preprocessing"
      ]
    },
    {
      "cell_type": "code",
      "execution_count": 16,
      "metadata": {
        "colab": {
          "base_uri": "https://localhost:8080/",
          "height": 150
        },
        "id": "cueDPZa2qKnz",
        "outputId": "82b22283-3b02-4bbd-d5be-3beefaf50dc7"
      },
      "outputs": [
        {
          "name": "stdout",
          "output_type": "stream",
          "text": [
            "Feature and label shapes: (784, 70000) (10, 70000)\n"
          ]
        },
        {
          "data": {
            "image/png": "[encoded data removed]",
            "text/plain": [
              "<Figure size 648x432 with 5 Axes>"
            ]
          },
          "metadata": {
            "needs_background": "light"
          },
          "output_type": "display_data"
        }
      ],
      "source": [
        "# Make a Dataset object\n",
        "mnist_set = Dataset(mnist_all_X, mnist_all_y)\n",
        "\n",
        "# Reshape the data\n",
        "width = 28\n",
        "categories = 10\n",
        "mnist_set.shape(width, categories)\n",
        "print(\"Feature and label shapes:\", mnist_set.X.shape, mnist_set.y.shape)\n",
        "\n",
        "# Visualize the first five images\n",
        "Utility.plot_images(mnist_set, 5)"
      ]
    },
    {
      "cell_type": "code",
      "execution_count": 17,
      "metadata": {
        "colab": {
          "base_uri": "https://localhost:8080/",
          "height": 150
        },
        "id": "hdfxOsqgu84r",
        "outputId": "c13b028a-1496-4449-92b4-2e4883369781"
      },
      "outputs": [
        {
          "name": "stdout",
          "output_type": "stream",
          "text": [
            "Splits on training, validation, & testing: (784, 49000) (784, 10500) (784, 10500)\n"
          ]
        },
        {
          "data": {
            "image/png": "[encoded data removed]",
            "text/plain": [
              "<Figure size 648x432 with 5 Axes>"
            ]
          },
          "metadata": {
            "needs_background": "light"
          },
          "output_type": "display_data"
        }
      ],
      "source": [
        "# Shuffle the data\n",
        "mnist_set.shuffle()\n",
        "Utility.plot_images(mnist_set, 5)\n",
        "\n",
        "# Divide the data\n",
        "mnist_set.divide()\n",
        "print('Splits on training, validation, & testing:', \n",
        "      mnist_set.X_train.shape, mnist_set.X_valid.shape, mnist_set.X_test.shape)"
      ]
    },
    {
      "cell_type": "markdown",
      "metadata": {
        "id": "pH2B2SnNKrVc"
      },
      "source": [
        "## 2.3 Training and validation"
      ]
    },
    {
      "cell_type": "code",
      "execution_count": 19,
      "metadata": {
        "id": "d9X_NnwzaQwc"
      },
      "outputs": [],
      "source": [
        "# Hyperparameters to use throughout all models\n",
        "batch = 100\n",
        "epochs = 15"
      ]
    },
    {
      "cell_type": "markdown",
      "metadata": {
        "id": "D6yuzi4ey9Cl"
      },
      "source": [
        "### 2.3.1 Varying the learning rate"
      ]
    },
    {
      "cell_type": "code",
      "execution_count": 20,
      "metadata": {
        "colab": {
          "base_uri": "https://localhost:8080/"
        },
        "id": "kEKW_IuKy_an",
        "outputId": "ecd256d5-214d-4ff2-98d5-9b466c200f7c"
      },
      "outputs": [
        {
          "name": "stdout",
          "output_type": "stream",
          "text": [
            "Epoch \tTrain_loss \tTrain_acc\n",
            "0 \t    3.500 \t    0.161\n",
            "1 \t    2.019 \t    0.389\n",
            "2 \t    1.525 \t    0.523\n",
            "3 \t    1.279 \t    0.595\n",
            "4 \t    1.128 \t    0.642\n",
            "5 \t    1.023 \t    0.676\n",
            "6 \t    0.945 \t    0.701\n",
            "7 \t    0.885 \t    0.721\n",
            "8 \t    0.837 \t    0.737\n",
            "9 \t    0.798 \t    0.751\n",
            "10 \t    0.765 \t    0.763\n",
            "11 \t    0.737 \t    0.771\n",
            "12 \t    0.713 \t    0.780\n",
            "13 \t    0.692 \t    0.787\n",
            "14 \t    0.673 \t    0.794\n",
            "Time elapsed (s): 22.9\n",
            "\n",
            "Epoch \tTrain_loss \tTrain_acc\n"
          ]
        },
        {
          "ename": "KeyboardInterrupt",
          "evalue": "",
          "output_type": "error",
          "traceback": [
            "\u001b[1;31m---------------------------------------------------------------------------\u001b[0m",
            "\u001b[1;31mKeyboardInterrupt\u001b[0m                         Traceback (most recent call last)",
            "\u001b[1;32mc:\\Users\\RrbDellDesktop3\\Documents\\school\\CS_637\\hw1\\HW1.ipynb Cell 19'\u001b[0m in \u001b[0;36m<cell line: 10>\u001b[1;34m()\u001b[0m\n\u001b[0;32m     <a href='vscode-notebook-cell:/c%3A/Users/RrbDellDesktop3/Documents/school/CS_637/hw1/HW1.ipynb#ch0000018?line=9'>10</a>\u001b[0m \u001b[39mfor\u001b[39;00m lr \u001b[39min\u001b[39;00m lrs:\n\u001b[0;32m     <a href='vscode-notebook-cell:/c%3A/Users/RrbDellDesktop3/Documents/school/CS_637/hw1/HW1.ipynb#ch0000018?line=10'>11</a>\u001b[0m   p_128_64\u001b[39m.\u001b[39mreset() \u001b[39m# Reinitialize parameters\u001b[39;00m\n\u001b[1;32m---> <a href='vscode-notebook-cell:/c%3A/Users/RrbDellDesktop3/Documents/school/CS_637/hw1/HW1.ipynb#ch0000018?line=11'>12</a>\u001b[0m   lr_results[lr] \u001b[39m=\u001b[39m Utility\u001b[39m.\u001b[39;49mtrain_epochs(p_128_64, mnist_set, lr, epochs, batch)\n",
            "File \u001b[1;32mc:\\users\\rrbdelldesktop3\\documents\\school\\cs_637\\hw1\\mlp_api\\mlp_api\\utility.py:44\u001b[0m, in \u001b[0;36mUtility.train_epochs\u001b[1;34m(mlp, dataset, lr, epochs, batch_size, shuffle_every_epoch, verbose)\u001b[0m\n\u001b[0;32m     <a href='file:///c%3A/users/rrbdelldesktop3/documents/school/cs_637/hw1/mlp_api/mlp_api/utility.py?line=40'>41</a>\u001b[0m \u001b[39mfor\u001b[39;00m epoch \u001b[39min\u001b[39;00m \u001b[39mrange\u001b[39m(epochs):\n\u001b[0;32m     <a href='file:///c%3A/users/rrbdelldesktop3/documents/school/cs_637/hw1/mlp_api/mlp_api/utility.py?line=41'>42</a>\u001b[0m   train_iter \u001b[39m=\u001b[39m dataset\u001b[39m.\u001b[39mmake_batches(batch_size, group\u001b[39m=\u001b[39m\u001b[39m'\u001b[39m\u001b[39mtrain\u001b[39m\u001b[39m'\u001b[39m, \n\u001b[0;32m     <a href='file:///c%3A/users/rrbdelldesktop3/documents/school/cs_637/hw1/mlp_api/mlp_api/utility.py?line=42'>43</a>\u001b[0m                                     shuffle_again\u001b[39m=\u001b[39mshuffle_every_epoch)\n\u001b[1;32m---> <a href='file:///c%3A/users/rrbdelldesktop3/documents/school/cs_637/hw1/mlp_api/mlp_api/utility.py?line=43'>44</a>\u001b[0m   train_loss[epoch], train_acc[epoch] \u001b[39m=\u001b[39m mlp\u001b[39m.\u001b[39;49mtrain(train_iter, lr, \n\u001b[0;32m     <a href='file:///c%3A/users/rrbdelldesktop3/documents/school/cs_637/hw1/mlp_api/mlp_api/utility.py?line=44'>45</a>\u001b[0m                                                   batch_size,\n\u001b[0;32m     <a href='file:///c%3A/users/rrbdelldesktop3/documents/school/cs_637/hw1/mlp_api/mlp_api/utility.py?line=45'>46</a>\u001b[0m                                                   train_mode\u001b[39m=\u001b[39;49m\u001b[39mTrue\u001b[39;49;00m)\n\u001b[0;32m     <a href='file:///c%3A/users/rrbdelldesktop3/documents/school/cs_637/hw1/mlp_api/mlp_api/utility.py?line=47'>48</a>\u001b[0m   \u001b[39m# If set to print out info as executing\u001b[39;00m\n\u001b[0;32m     <a href='file:///c%3A/users/rrbdelldesktop3/documents/school/cs_637/hw1/mlp_api/mlp_api/utility.py?line=48'>49</a>\u001b[0m   \u001b[39mif\u001b[39;00m verbose:\n",
            "File \u001b[1;32mc:\\users\\rrbdelldesktop3\\documents\\school\\cs_637\\hw1\\mlp_api\\mlp_api\\perceptron.py:152\u001b[0m, in \u001b[0;36mPerceptron.train\u001b[1;34m(self, generator, lr, batch_size, train_mode)\u001b[0m\n\u001b[0;32m    <a href='file:///c%3A/users/rrbdelldesktop3/documents/school/cs_637/hw1/mlp_api/mlp_api/perceptron.py?line=149'>150</a>\u001b[0m acc_epoch \u001b[39m=\u001b[39m \u001b[39m0.0\u001b[39m\n\u001b[0;32m    <a href='file:///c%3A/users/rrbdelldesktop3/documents/school/cs_637/hw1/mlp_api/mlp_api/perceptron.py?line=150'>151</a>\u001b[0m \u001b[39mfor\u001b[39;00m i, (X, y) \u001b[39min\u001b[39;00m \u001b[39menumerate\u001b[39m(generator):\n\u001b[1;32m--> <a href='file:///c%3A/users/rrbdelldesktop3/documents/school/cs_637/hw1/mlp_api/mlp_api/perceptron.py?line=151'>152</a>\u001b[0m   \u001b[39mself\u001b[39;49m\u001b[39m.\u001b[39;49mforward(X, batch_size)\n\u001b[0;32m    <a href='file:///c%3A/users/rrbdelldesktop3/documents/school/cs_637/hw1/mlp_api/mlp_api/perceptron.py?line=153'>154</a>\u001b[0m   \u001b[39mif\u001b[39;00m train_mode: \u001b[39m# Adjust parameters only during training\u001b[39;00m\n\u001b[0;32m    <a href='file:///c%3A/users/rrbdelldesktop3/documents/school/cs_637/hw1/mlp_api/mlp_api/perceptron.py?line=154'>155</a>\u001b[0m     \u001b[39mself\u001b[39m\u001b[39m.\u001b[39mbackward(y, lr, batch_size)\n",
            "File \u001b[1;32mc:\\users\\rrbdelldesktop3\\documents\\school\\cs_637\\hw1\\mlp_api\\mlp_api\\perceptron.py:103\u001b[0m, in \u001b[0;36mPerceptron.forward\u001b[1;34m(self, X, batch_size)\u001b[0m\n\u001b[0;32m    <a href='file:///c%3A/users/rrbdelldesktop3/documents/school/cs_637/hw1/mlp_api/mlp_api/perceptron.py?line=100'>101</a>\u001b[0m \u001b[39m# Pass through each layer using inputs from previous layer\u001b[39;00m\n\u001b[0;32m    <a href='file:///c%3A/users/rrbdelldesktop3/documents/school/cs_637/hw1/mlp_api/mlp_api/perceptron.py?line=101'>102</a>\u001b[0m \u001b[39mfor\u001b[39;00m i, layer_ \u001b[39min\u001b[39;00m \u001b[39menumerate\u001b[39m(\u001b[39mself\u001b[39m\u001b[39m.\u001b[39mlayers[\u001b[39m1\u001b[39m:], start\u001b[39m=\u001b[39m\u001b[39m1\u001b[39m):\n\u001b[1;32m--> <a href='file:///c%3A/users/rrbdelldesktop3/documents/school/cs_637/hw1/mlp_api/mlp_api/perceptron.py?line=102'>103</a>\u001b[0m   layer_\u001b[39m.\u001b[39;49mforward(\u001b[39mself\u001b[39;49m\u001b[39m.\u001b[39;49mlayers[i\u001b[39m-\u001b[39;49m\u001b[39m1\u001b[39;49m]\u001b[39m.\u001b[39;49ma, batch_size)\n",
            "File \u001b[1;32mc:\\Users\\RrbDellDesktop3\\Documents\\school\\CS_637\\hw1/mlp_api/mlp_api\\layer.py:92\u001b[0m, in \u001b[0;36mLayer.forward\u001b[1;34m(self, input, batch_size)\u001b[0m\n\u001b[0;32m     <a href='file:///c%3A/Users/RrbDellDesktop3/Documents/school/CS_637/hw1/mlp_api/mlp_api/layer.py?line=82'>83</a>\u001b[0m \u001b[39m'''\u001b[39;00m\n\u001b[0;32m     <a href='file:///c%3A/Users/RrbDellDesktop3/Documents/school/CS_637/hw1/mlp_api/mlp_api/layer.py?line=83'>84</a>\u001b[0m \u001b[39mPass inputs forward through the layer.\u001b[39;00m\n\u001b[0;32m     <a href='file:///c%3A/Users/RrbDellDesktop3/Documents/school/CS_637/hw1/mlp_api/mlp_api/layer.py?line=84'>85</a>\u001b[0m \u001b[39m\u001b[39;00m\n\u001b[1;32m   (...)\u001b[0m\n\u001b[0;32m     <a href='file:///c%3A/Users/RrbDellDesktop3/Documents/school/CS_637/hw1/mlp_api/mlp_api/layer.py?line=88'>89</a>\u001b[0m \n\u001b[0;32m     <a href='file:///c%3A/Users/RrbDellDesktop3/Documents/school/CS_637/hw1/mlp_api/mlp_api/layer.py?line=89'>90</a>\u001b[0m \u001b[39m'''\u001b[39;00m\n\u001b[0;32m     <a href='file:///c%3A/Users/RrbDellDesktop3/Documents/school/CS_637/hw1/mlp_api/mlp_api/layer.py?line=90'>91</a>\u001b[0m \u001b[39mself\u001b[39m\u001b[39m.\u001b[39mz \u001b[39m=\u001b[39m \u001b[39mself\u001b[39m\u001b[39m.\u001b[39mw \u001b[39m@\u001b[39m \u001b[39minput\u001b[39m \u001b[39m+\u001b[39m \u001b[39mself\u001b[39m\u001b[39m.\u001b[39mb \u001b[39m# Aggregate\u001b[39;00m\n\u001b[1;32m---> <a href='file:///c%3A/Users/RrbDellDesktop3/Documents/school/CS_637/hw1/mlp_api/mlp_api/layer.py?line=91'>92</a>\u001b[0m \u001b[39mself\u001b[39m\u001b[39m.\u001b[39ma \u001b[39m=\u001b[39m (\u001b[39mself\u001b[39;49m\u001b[39m.\u001b[39;49mactiv_fun(\u001b[39mself\u001b[39;49m\u001b[39m.\u001b[39;49mz))\u001b[39m.\u001b[39mreshape(\u001b[39m-\u001b[39m\u001b[39m1\u001b[39m, batch_size)\n",
            "File \u001b[1;32mc:\\users\\rrbdelldesktop3\\documents\\school\\cs_637\\hw1\\mlp_api\\mlp_api\\activation.py:9\u001b[0m, in \u001b[0;36mActivation.relu\u001b[1;34m(x, derive)\u001b[0m\n\u001b[0;32m      <a href='file:///c%3A/users/rrbdelldesktop3/documents/school/cs_637/hw1/mlp_api/mlp_api/activation.py?line=2'>3</a>\u001b[0m \u001b[39mclass\u001b[39;00m \u001b[39mActivation\u001b[39;00m(\u001b[39mobject\u001b[39m):\n\u001b[0;32m      <a href='file:///c%3A/users/rrbdelldesktop3/documents/school/cs_637/hw1/mlp_api/mlp_api/activation.py?line=3'>4</a>\u001b[0m   \u001b[39m'''\u001b[39;00m\n\u001b[0;32m      <a href='file:///c%3A/users/rrbdelldesktop3/documents/school/cs_637/hw1/mlp_api/mlp_api/activation.py?line=4'>5</a>\u001b[0m \u001b[39m  Common activation functions used in a neural network.\u001b[39;00m\n\u001b[0;32m      <a href='file:///c%3A/users/rrbdelldesktop3/documents/school/cs_637/hw1/mlp_api/mlp_api/activation.py?line=5'>6</a>\u001b[0m \n\u001b[0;32m      <a href='file:///c%3A/users/rrbdelldesktop3/documents/school/cs_637/hw1/mlp_api/mlp_api/activation.py?line=6'>7</a>\u001b[0m \u001b[39m  '''\u001b[39;00m\n\u001b[1;32m----> <a href='file:///c%3A/users/rrbdelldesktop3/documents/school/cs_637/hw1/mlp_api/mlp_api/activation.py?line=8'>9</a>\u001b[0m   \u001b[39m@staticmethod\u001b[39m\n\u001b[0;32m     <a href='file:///c%3A/users/rrbdelldesktop3/documents/school/cs_637/hw1/mlp_api/mlp_api/activation.py?line=9'>10</a>\u001b[0m   \u001b[39mdef\u001b[39;00m \u001b[39mrelu\u001b[39m(x, derive\u001b[39m=\u001b[39m\u001b[39mFalse\u001b[39;00m):\n\u001b[0;32m     <a href='file:///c%3A/users/rrbdelldesktop3/documents/school/cs_637/hw1/mlp_api/mlp_api/activation.py?line=10'>11</a>\u001b[0m     \u001b[39m'''\u001b[39;00m\n\u001b[0;32m     <a href='file:///c%3A/users/rrbdelldesktop3/documents/school/cs_637/hw1/mlp_api/mlp_api/activation.py?line=11'>12</a>\u001b[0m \u001b[39m    Applies ReLU or its derivative on an input.\u001b[39;00m\n\u001b[0;32m     <a href='file:///c%3A/users/rrbdelldesktop3/documents/school/cs_637/hw1/mlp_api/mlp_api/activation.py?line=12'>13</a>\u001b[0m \u001b[39m    \u001b[39;00m\n\u001b[1;32m   (...)\u001b[0m\n\u001b[0;32m     <a href='file:///c%3A/users/rrbdelldesktop3/documents/school/cs_637/hw1/mlp_api/mlp_api/activation.py?line=19'>20</a>\u001b[0m \n\u001b[0;32m     <a href='file:///c%3A/users/rrbdelldesktop3/documents/school/cs_637/hw1/mlp_api/mlp_api/activation.py?line=20'>21</a>\u001b[0m \u001b[39m    '''\u001b[39;00m\n\u001b[0;32m     <a href='file:///c%3A/users/rrbdelldesktop3/documents/school/cs_637/hw1/mlp_api/mlp_api/activation.py?line=21'>22</a>\u001b[0m     \u001b[39mif\u001b[39;00m \u001b[39mnot\u001b[39;00m derive:\n",
            "\u001b[1;31mKeyboardInterrupt\u001b[0m: "
          ]
        }
      ],
      "source": [
        "dims = (width*width, 128, 64, 10)\n",
        "activ_fns = (Activation.relu, Activation.relu, Activation.softmax)\n",
        "\n",
        "# Make a generic neural network with two hidden layers\n",
        "p_128_64 = Perceptron(dims, activ_fns, Loss.cross_entropy)\n",
        "\n",
        "# Different learning rates to test\n",
        "lr_results = {}\n",
        "lrs = (5e-4, 0.002, 0.01)\n",
        "for lr in lrs:\n",
        "  p_128_64.reset() # Reinitialize parameters\n",
        "  lr_results[lr] = Utility.train_epochs(p_128_64, mnist_set, lr, epochs, batch)"
      ]
    },
    {
      "cell_type": "code",
      "execution_count": null,
      "metadata": {
        "colab": {
          "base_uri": "https://localhost:8080/",
          "height": 404
        },
        "id": "jqvZ1K3zp_SC",
        "outputId": "587ebd02-f43b-4469-8a90-460ab027e08a"
      },
      "outputs": [],
      "source": [
        "# Plot training loss for the different learning rates used\n",
        "Utility.plot_results([lr_results[_][0] for _ in lrs],\n",
        "                     labels=['lr=' + str(lr) for lr in lrs],\n",
        "                     ylabel='Cross-entropy loss',\n",
        "                     title='Effect of learning rate on training loss')"
      ]
    },
    {
      "cell_type": "code",
      "execution_count": null,
      "metadata": {
        "colab": {
          "base_uri": "https://localhost:8080/",
          "height": 404
        },
        "id": "YhxS1S9PqsKq",
        "outputId": "ca9c777c-ac68-4d0c-db71-e5b67a57d38b"
      },
      "outputs": [],
      "source": [
        "# Plot training accuracy for the different learning rates used\n",
        "Utility.plot_results([lr_results[_][1] for _ in lrs],\n",
        "                     labels=['lr=' + str(lr) for lr in lrs],\n",
        "                     ylabel='Accuracy', ymax=1.0,\n",
        "                     title='Effect of learning rate on accuracy')"
      ]
    },
    {
      "cell_type": "code",
      "execution_count": null,
      "metadata": {
        "colab": {
          "base_uri": "https://localhost:8080/",
          "height": 388
        },
        "id": "m2G7NTca8C7L",
        "outputId": "0a86268c-ee38-474e-dfd5-27f5fdb5261b"
      },
      "outputs": [],
      "source": [
        "# Visualize images from a random sample\n",
        "Utility.plot_images(mnist_set, 20, True, p_128_64)"
      ]
    },
    {
      "cell_type": "markdown",
      "metadata": {
        "id": "pitXNowVqzBq"
      },
      "source": [
        "### 2.3.2 Changing the architecture\n",
        "\n",
        "*   Number of hidden layers\n",
        "*   Number of neurons per layer\n",
        "\n"
      ]
    },
    {
      "cell_type": "code",
      "execution_count": null,
      "metadata": {
        "id": "49rDxJiRMW1o"
      },
      "outputs": [],
      "source": [
        "# Define different architectures to try\n",
        "arch_results = {}\n",
        "lr = 0.001\n",
        "dims_set = ((width*width, 64, 32, 10),\n",
        "            (width*width, 256, 128, 10), \n",
        "            (width*width, 256, 128, 64, 10))\n",
        "activ_fns_set = ((Activation.relu, Activation.relu, Activation.softmax),\n",
        "                 (Activation.relu, Activation.relu, Activation.softmax),\n",
        "                 (Activation.relu, Activation.relu, Activation.relu, Activation.softmax))"
      ]
    },
    {
      "cell_type": "code",
      "execution_count": null,
      "metadata": {
        "colab": {
          "base_uri": "https://localhost:8080/"
        },
        "id": "_YW-XYQst-nF",
        "outputId": "54532adb-b288-406d-e6aa-5ab814a19acb"
      },
      "outputs": [],
      "source": [
        "# Train models, validate\n",
        "for dims, activ_fns in zip(dims_set, activ_fns_set):\n",
        "  p = Perceptron(dims, activ_fns, Loss.cross_entropy)\n",
        "  arch_results[dims] = Utility.train_and_validate(p, mnist_set, \n",
        "                                                  lr, epochs, batch)"
      ]
    },
    {
      "cell_type": "code",
      "execution_count": null,
      "metadata": {
        "colab": {
          "base_uri": "https://localhost:8080/",
          "height": 404
        },
        "id": "V7hbTJiRY0vL",
        "outputId": "e6bc1a0d-3370-4fdd-951b-096605adfa7c"
      },
      "outputs": [],
      "source": [
        "# Plot loss for the different architectures tried\n",
        "Utility.plot_results([arch_results[_][0] for _ in dims_set],\n",
        "                     labels=[str(dims) + ', testing' for dims in dims_set],\n",
        "                     fmts=['-' + _ for _ in ('b', 'r', 'g')])\n",
        "\n",
        "Utility.plot_results([arch_results[_][2] for _ in dims_set],\n",
        "                     labels=[str(dims[1:]) + ', validation' for dims in dims_set],\n",
        "                     fmts=['.' + _ for _ in ('b', 'r', 'g')],\n",
        "                     ylabel='Cross-entropy loss', ymax=4.0,\n",
        "                     title='Effect of architecture on loss')"
      ]
    },
    {
      "cell_type": "code",
      "execution_count": null,
      "metadata": {
        "colab": {
          "base_uri": "https://localhost:8080/",
          "height": 404
        },
        "id": "g7Q46O1_ZImR",
        "outputId": "e98decd4-352c-4cb0-aca7-caeb479c813f"
      },
      "outputs": [],
      "source": [
        "# Plot accuracy for different architectures tried\n",
        "Utility.plot_results([arch_results[_][1] for _ in dims_set],\n",
        "                     labels=[str(dims) + ', testing' for dims in dims_set],\n",
        "                     fmts=['-' + _ for _ in ('b', 'r', 'g')])\n",
        "Utility.plot_results([arch_results[_][3] for _ in dims_set],\n",
        "                     labels=[str(dims) + ', validation' for dims in dims_set],\n",
        "                     fmts=['.' + _ for _ in ('b', 'r', 'g')],\n",
        "                     ylabel='Accuracy', ymax=1.0,\n",
        "                     title='Effect of architecture on accuracy')"
      ]
    },
    {
      "cell_type": "markdown",
      "metadata": {
        "id": "Vht3uAq9lT1r"
      },
      "source": [
        "## 2.4 Testing\n",
        "\n",
        "Report performance by passing the test set through a trained model."
      ]
    },
    {
      "cell_type": "code",
      "execution_count": null,
      "metadata": {
        "colab": {
          "base_uri": "https://localhost:8080/"
        },
        "id": "7lA5gz6a0ka_",
        "outputId": "9172d07c-2b97-4fb4-ece4-891f7c9ae46f"
      },
      "outputs": [],
      "source": [
        "# Generate batches from test data, pass through model\n",
        "test_gen = mnist_set.make_batches(batch, 'test')\n",
        "loss, acc = p_128_64.train(test_gen, train_mode=False) \n",
        "print('Cross-entropy loss: {:.3f}\\nAccuracy: {:.3f}'.format(loss, acc))"
      ]
    },
    {
      "cell_type": "markdown",
      "metadata": {
        "id": "62TdC6i4TRvl"
      },
      "source": [
        "# 3. Appendix\n",
        "\n",
        "Simple tests to check basic functionality with hand calculations."
      ]
    },
    {
      "cell_type": "markdown",
      "metadata": {
        "id": "FrMKJXoC_9wd"
      },
      "source": [
        "Hinge loss examples from class on 1/20/22"
      ]
    },
    {
      "cell_type": "code",
      "execution_count": 21,
      "metadata": {
        "colab": {
          "base_uri": "https://localhost:8080/"
        },
        "id": "nn7mgrr_ABYv",
        "outputId": "8f82c88a-6bd3-4947-e32a-fbbd3fde312a"
      },
      "outputs": [
        {
          "name": "stdout",
          "output_type": "stream",
          "text": [
            "Target class is 3, loss=0.0 \tif 2, 3.0 \tif 1, 21.4\n"
          ]
        }
      ],
      "source": [
        "# 3-class classification example\n",
        "ex1 = np.array([-3.7, 5, 7]).T\n",
        "print('Target class is 3, loss={:0.1f} \\tif 2, {:0.1f} \\tif 1, {:0.1f}'.format(\n",
        "    Loss.hinge_loss(ex1, np.array([0, 0, 1]).T),\n",
        "    Loss.hinge_loss(ex1, np.array([0, 1, 0]).T),\n",
        "    Loss.hinge_loss(ex1, np.array([1, 0, 0]).T)))"
      ]
    },
    {
      "cell_type": "code",
      "execution_count": 22,
      "metadata": {
        "colab": {
          "base_uri": "https://localhost:8080/"
        },
        "id": "G3r5ejAXAEZH",
        "outputId": "9966943a-5303-4f40-e3e7-f7167bdee375"
      },
      "outputs": [
        {
          "name": "stdout",
          "output_type": "stream",
          "text": [
            "Target class is 2: 3.9\n"
          ]
        }
      ],
      "source": [
        "# 4-class classification example\n",
        "ex2 = np.array([2.5, 2.0, 2.7, 1.7]).T\n",
        "print('Target class is 2: {:0.1f}'.format(\n",
        "    Loss.hinge_loss(ex2, np.array([0, 1, 0, 0]).T)))"
      ]
    },
    {
      "cell_type": "markdown",
      "metadata": {
        "id": "4jOLOwuQF6mN"
      },
      "source": [
        "Compute accuracy on two examples, one predicted correctly and one not:"
      ]
    },
    {
      "cell_type": "code",
      "execution_count": 23,
      "metadata": {
        "colab": {
          "base_uri": "https://localhost:8080/"
        },
        "id": "EpN_cvn8F8_c",
        "outputId": "1647d6b8-c3d7-4324-af8c-600b47bd0122"
      },
      "outputs": [
        {
          "data": {
            "text/plain": [
              "0.5"
            ]
          },
          "execution_count": 23,
          "metadata": {},
          "output_type": "execute_result"
        }
      ],
      "source": [
        "yhat = np.array(((0.2, 0.5, 0.3), (0.7, 0.2, 0.1))).T\n",
        "y = np.array(((0, 1, 0), (0, 1, 0))).T\n",
        "Loss.accuracy(yhat, y)"
      ]
    },
    {
      "cell_type": "markdown",
      "metadata": {
        "id": "Fw_MM8svOBAe"
      },
      "source": [
        "Informal problem given at the end of class, 1/25/22:"
      ]
    },
    {
      "cell_type": "code",
      "execution_count": 30,
      "metadata": {
        "colab": {
          "base_uri": "https://localhost:8080/"
        },
        "id": "Z6ZL6w-XMa9B",
        "outputId": "9bc119a4-091c-4953-c371-dddd7b2031c9"
      },
      "outputs": [
        {
          "name": "stdout",
          "output_type": "stream",
          "text": [
            "Layer 1 \n",
            "z =\n",
            " [[1.]\n",
            " [0.]\n",
            " [1.]] \n",
            "a =\n",
            " [[1.]\n",
            " [0.]\n",
            " [1.]] \n",
            "\n",
            "Layer 2 \n",
            "z =\n",
            " [[1.]\n",
            " [0.]] \n",
            "a =\n",
            " [[0.73105858]\n",
            " [0.5       ]] \n",
            "\n",
            "Layer 3 \n",
            "z =\n",
            " [[0.73105858]\n",
            " [0.5       ]\n",
            " [0.        ]\n",
            " [0.        ]] \n",
            "a =\n",
            " [[0.36278004]\n",
            " [0.28793597]\n",
            " [0.17464199]\n",
            " [0.17464199]] \n",
            "\n"
          ]
        }
      ],
      "source": [
        "p = Perceptron((4, 3, 2, 4), \n",
        "               (Activation.relu, Activation.sigmoid, Activation.softmax), \n",
        "               Loss.cross_entropy, init_with_normal=True)\n",
        "p[1].w = np.array([[1.,0,0,0], [0,1,0,0], [0,0,1,0]])\n",
        "p[2].w = np.array([[1.,0,0], [0,1,0]])\n",
        "p[3].w = np.array([[1.,0], [0,1], [0,0], [0,0]])\n",
        "p.zero_biases()\n",
        "\n",
        "# Check forward path\n",
        "p.forward(np.array([1, 0, 1, 0]).reshape(-1, 1), batch_size=1)\n",
        "for i in range(1, len(p.dims)):\n",
        "  print('Layer', i, '\\nz =\\n', p[i].z, '\\na =\\n', p[i].a, '\\n')"
      ]
    },
    {
      "cell_type": "code",
      "execution_count": 38,
      "metadata": {
        "colab": {
          "base_uri": "https://localhost:8080/"
        },
        "id": "FDOfKgdXt6Gf",
        "outputId": "dc55818a-26de-4102-8f22-102cdb88164f"
      },
      "outputs": [
        {
          "name": "stdout",
          "output_type": "stream",
          "text": [
            "p[1].w before backprop\n",
            " [[20.64794602  0.         19.64794602  0.        ]\n",
            " [ 4.94097879  1.          4.94097879  0.        ]\n",
            " [17.33730994  0.         18.33730994  0.        ]]\n",
            "p[1].w after backprop\n",
            " [[30.47285289  0.         29.47285289  0.        ]\n",
            " [ 5.99665499  1.          5.99665499  0.        ]\n",
            " [26.32064505  0.         27.32064505  0.        ]]\n",
            "New output: [[5.85118834e-04]\n",
            " [9.97257193e-01]\n",
            " [1.07884427e-03]\n",
            " [1.07884427e-03]]\n"
          ]
        }
      ],
      "source": [
        "# Check backpropagation\n",
        "y = np.array([0., 1., 0., 0.]).reshape(-1, 1) # Dummy one-hot label\n",
        "print('p[1].w before backprop\\n', p[1].w)\n",
        "p.backward(y, lr=0.5, batch_size=1)\n",
        "print('p[1].w after backprop\\n', p[1].w)\n",
        "print('New output:', Activation.softmax(p[3].w @ p[2].a + p[3].b))"
      ]
    }
  ],
  "metadata": {
    "colab": {
      "collapsed_sections": [
        "OHuM8L8m3E5p"
      ],
      "name": "HW1.ipynb",
      "provenance": []
    },
    "kernelspec": {
      "display_name": "Python 3",
      "name": "python3"
    },
    "language_info": {
      "codemirror_mode": {
        "name": "ipython",
        "version": 3
      },
      "file_extension": ".py",
      "mimetype": "text/x-python",
      "name": "python",
      "nbconvert_exporter": "python",
      "pygments_lexer": "ipython3",
      "version": "3.10.2"
    }
  },
  "nbformat": 4,
  "nbformat_minor": 0
}
