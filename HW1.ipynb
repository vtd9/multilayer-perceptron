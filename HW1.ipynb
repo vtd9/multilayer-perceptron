{
  "nbformat": 4,
  "nbformat_minor": 0,
  "metadata": {
    "colab": {
      "name": "HW1.ipynb",
      "provenance": [],
      "collapsed_sections": [
        "EeWhqjZ5-gcB",
        "t7v6weDTiymY",
        "uWe1jz6-4JoH",
        "I9ZZcb30LB9b",
        "gTQjTpXU-mC4",
        "aOpXBwW6FMLR"
      ],
      "include_colab_link": true
    },
    "kernelspec": {
      "name": "python3",
      "display_name": "Python 3"
    },
    "language_info": {
      "name": "python"
    }
  },
  "cells": [
    {
      "cell_type": "markdown",
      "metadata": {
        "id": "view-in-github",
        "colab_type": "text"
      },
      "source": [
        "<a href=\"https://colab.research.google.com/github/vtd9/deep-learning/blob/explosion/HW1.ipynb\" target=\"_parent\"><img src=\"https://colab.research.google.com/assets/colab-badge.svg\" alt=\"Open In Colab\"/></a>"
      ]
    },
    {
      "cell_type": "markdown",
      "source": [
        "# Homework 1\n",
        "\n",
        "CS 637, Spring 2022\n",
        "\n",
        "Due 3/3/21\n",
        "\n",
        "1) Implement an API to create a fully-connected multilayer perceptron (MLP) for a *k*-class classification problem.\n",
        "\n",
        "2) Test this implementation on MNIST data."
      ],
      "metadata": {
        "id": "GnTdZZ4lrWeB"
      }
    },
    {
      "cell_type": "markdown",
      "source": [
        "Notation\n",
        "\n",
        "*  `w`: weights\n",
        "*  `b`: biases\n",
        "*  `z`: aggregated values\n",
        "*  `a`: activated values\n",
        "*  `x`: input to a neural network\n",
        "*  `yhat`: final output from the neural network (i.e., *after* softmax if applied)"
      ],
      "metadata": {
        "id": "aB0N4lx1NH_t"
      }
    },
    {
      "cell_type": "code",
      "source": [
        "# Import dependencies\n",
        "import numpy as np\n",
        "import matplotlib.pyplot as plt\n",
        "import time"
      ],
      "metadata": {
        "id": "WDcWMVP-46qe"
      },
      "execution_count": 1,
      "outputs": []
    },
    {
      "cell_type": "markdown",
      "source": [
        "# 1. API"
      ],
      "metadata": {
        "id": "OHuM8L8m3E5p"
      }
    },
    {
      "cell_type": "markdown",
      "source": [
        "## 1.1 Layer class"
      ],
      "metadata": {
        "id": "EeWhqjZ5-gcB"
      }
    },
    {
      "cell_type": "code",
      "source": [
        "class Layer(object):\n",
        "  '''\n",
        "  Represents one layer of a multilayer perceptron (MLP).\n",
        "\n",
        "  Initializes and updates parameter values, weights (w) and bias (b), for \n",
        "  aggregation within the layer.\n",
        "\n",
        "  '''\n",
        "\n",
        "  def __init__(self, in_dim=1, out_dim=1, activ_fun=None, init_with_normal=True, \n",
        "               mean=0, var=0.01, min=-0.1, max=0.1, activated=None):\n",
        "    '''\n",
        "    Constructs a new Layer object.\n",
        "\n",
        "    Args:\n",
        "     in_dim (int): Dimension of inputs to this layer\n",
        "     out_dim (int): Dimension of outputs from this layer\n",
        "     activ_fun (list or tuple): Container of functions from the Activation \n",
        "      class to apply to each layer\n",
        "     init_with_normal (bool): True to initialize parameters by sampling from a \n",
        "      normal distribution, false to sample from a uniform distribution\n",
        "     mean (float): Mean to use if initializing with a normal dist\n",
        "     var (float): Variance to use if initializing with a normal dist\n",
        "     min (float): Minimum bound to use if initializing with a uniform dist\n",
        "     max (float): Maximum bound to use if initializing with a uniform dist\n",
        "     activated (ndarray): Array to supply in special cases (i.e., input layer)\n",
        "      to explicitly set the activation values before any data is passed through\n",
        "      \n",
        "    '''\n",
        "    self.activ_fun = activ_fun\n",
        "    self.w = None # Weights\n",
        "    self.b = None # Bias\n",
        "    self.z = None # Aggregations\n",
        "    self.a = activated # Activations\n",
        "\n",
        "    # Initialize layer's parameters if a non-input layer\n",
        "    if activ_fun is not None:\n",
        "      if init_with_normal:\n",
        "        self.normal_init(out_dim, in_dim, mean, var) # Weights\n",
        "        self.normal_init(out_dim, 1, mean, var, True) # Bias\n",
        "      else:\n",
        "        self.random_init(out_dim, in_dim, min, max) # Weights\n",
        "        self.random_init(out_dim, 1, min, max, is_bias=True) # Bias\n",
        "\n",
        "  def normal_init(self, out_dim, in_dim, mean=0.0, var=0.01, is_bias=False):\n",
        "    '''\n",
        "    Initialize parameters by sampling from a normal distribution.\n",
        "\n",
        "    Args:\n",
        "\n",
        "\n",
        "    '''\n",
        "    # If variance not set, use Kaiming's initializaion with fan-in\n",
        "\n",
        "    # Initialize weights or bias\n",
        "    if is_bias:\n",
        "      self.b = np.random.normal(mean, var**0.5, (out_dim, in_dim))\n",
        "    else:\n",
        "      self.w = np.random.normal(mean, var**0.5, (out_dim, in_dim))\n",
        "\n",
        "  def random_init(self, out_dim, in_dim, min=-0.1, max=0.1, is_bias=False):\n",
        "    '''\n",
        "    Initialize parameters by sampling from a uniform distribution.\n",
        "\n",
        "    Args:\n",
        "\n",
        "\n",
        "    '''\n",
        "    if is_bias:\n",
        "      self.b = np.random.uniform(min, max, size=(out_dim, in_dim))\n",
        "    else:\n",
        "      self.w = np.random.uniform(min, max, size=(out_dim, in_dim))\n",
        "\n",
        "  def zero_bias(self):\n",
        "    '''\n",
        "    Set layer biases to zero.\n",
        "\n",
        "    '''\n",
        "    self.b = np.zeros(self.b.shape)\n",
        "  \n",
        "  def forward(self, input, batch_size):\n",
        "    '''\n",
        "    Pass inputs forward through the layer.\n",
        "    \n",
        "    Args:\n",
        "      input (ndarray): Feature values to pass through the model\n",
        "      batch_size (int): Batch size of the input\n",
        "\n",
        "    '''\n",
        "    # Aggregate\n",
        "    self.z = self.w @ input + self.b\n",
        "    if np.isinf(self.z).any(): \n",
        "      print(self.z, self.w, self.b)\n",
        "      raise ArithmeticError('Possibly exploding gradient')\n",
        "\n",
        "    # Activate\n",
        "    self.a = (self.activ_fun(self.z)).reshape(-1, batch_size)\n",
        "  \n",
        "  def adjust_weight(self, prev_a, grad_chain, lr, batch_size):\n",
        "    '''\n",
        "    Update weight values using the backpropagated gradient.\n",
        "    \n",
        "    Args:\n",
        "      prev_a (ndarray): Activation from the previous layer\n",
        "      grad_chain (ndarray): Backpropagated chain of derivatives so far\n",
        "      lr: Learning rate\n",
        "\n",
        "    '''\n",
        "    # Normalize magnitude of adjustment with batch size\n",
        "    self.w -= lr/batch_size * (grad_chain @ prev_a.T)\n",
        "  \n",
        "  def adjust_bias(self, grad_chain, lr, batch_size):\n",
        "    '''\n",
        "    Update bias values using the backpropagated gradient.\n",
        "\n",
        "    Args:\n",
        "      grad_chain (ndarray): Backpropagated chain of derivatives so far\n",
        "      lr (float): Learning rate\n",
        "      batch_size (int): Batch size\n",
        "\n",
        "    '''\n",
        "    # Derivative of an aggregate wrt bias (dz/db) = 1, so don't need the \n",
        "    # activation values of the previous layer\n",
        "    self.b -= lr/batch_size * np.average(grad_chain, axis=1).reshape(-1, 1)"
      ],
      "metadata": {
        "id": "TXeX29VN5ZYx"
      },
      "execution_count": 2,
      "outputs": []
    },
    {
      "cell_type": "markdown",
      "source": [
        "## 1.2 Perceptron class"
      ],
      "metadata": {
        "id": "z-GYqijcKkcE"
      }
    },
    {
      "cell_type": "code",
      "source": [
        "class Perceptron(object):\n",
        "  '''\n",
        "  Represents a multi-layer perceptron (MLP) for processing input data. \n",
        "  \n",
        "  Made of an aggregate of Layer objects that can be accessed from indexes,\n",
        "  where 0 is the input layer, 1 is the first hidden layer, and so forth.\n",
        "\n",
        "  '''\n",
        "\n",
        "  def __init__(self, dims, activ_fns, loss_fn,\n",
        "               init_with_normal=True, mean=0.0, var=0.01, min=-0.1, max=0.1):\n",
        "    '''\n",
        "    Constructs a new Perceptron object.\n",
        "\n",
        "    Args:\n",
        "      dims (list or tuple): Container of ints, each representing the \n",
        "        dimensionality of a layer at the same index. First integer should be\n",
        "        the number of input features; last int is the number of output neurons.\n",
        "      activ_fns (list or tuple): Container of methods from the Activation class \n",
        "      to apply on the hidden and output aggregations\n",
        "      loss_fn: loss function to measure model performance\n",
        "      init_with_normal (bool): True to initialize parameters by sampling from a \n",
        "        normal distribution, false to sample from a uniform one\n",
        "      mean (float): Mean to use if initializing with a normal dist\n",
        "      var (float): Variance to use if initializing with a normal dist\n",
        "      min (float): Minimum bound to use if initializing with a uniform dist\n",
        "      max (float): Minimum bound to use if initializing with a uniform dist\n",
        "\n",
        "    '''\n",
        "    # Ensure Perceptron has at least input and output layers\n",
        "    assert len(dims) > 1\n",
        "\n",
        "    # Ensure number of activation functions matches number of layers - 1\n",
        "    assert len(dims) == len(activ_fns) + 1\n",
        "    \n",
        "    self.dims = dims\n",
        "    self.n_layers = len(dims)\n",
        "    self.activ_fns = activ_fns\n",
        "    self.loss_fn = loss_fn\n",
        "    self.reset(init_with_normal, mean, var, min, max) # Initialize parameters\n",
        "\n",
        "  def reset(self, init_with_normal=True, mean=0.0, var=0.01, min=-0.1, max=0.1):  \n",
        "    '''\n",
        "    Initialize parameters in the MLP.\n",
        "\n",
        "    Args:\n",
        "\n",
        "\n",
        "    '''\n",
        "    self.layers = [None] * len(self.dims)\n",
        "\n",
        "    # For each layer besides the input layer, attach the appropriate dimensions, \n",
        "    # activation function, and initialization parameters\n",
        "    for i in range(self.n_layers - 1):\n",
        "      self.layers[i + 1] = Layer(\n",
        "          in_dim=self.dims[i], out_dim=self.dims[i+1],\n",
        "          activ_fun=self.activ_fns[i], \n",
        "          init_with_normal=init_with_normal,\n",
        "           mean=mean, var=var, min=min, max=max)\n",
        "  \n",
        "  def zero_biases(self):\n",
        "    '''\n",
        "    Set all biases in the MLP to zero.\n",
        "\n",
        "    '''\n",
        "    for i in range(1, self.n_layers):\n",
        "      self.layers[i].zero_bias()\n",
        "\n",
        "  def __getitem__(self, layer_index):\n",
        "    '''\n",
        "    Retrieves reference to a layer in the MLP.\n",
        "\n",
        "    Args:\n",
        "      layer_index (int): Index of layer to access.\n",
        "\n",
        "    Returns: \n",
        "      Layer object at layer_index\n",
        "\n",
        "    '''\n",
        "    return self.layers[layer_index]\n",
        "  \n",
        "  def forward(self, X, batch_size):\n",
        "    '''\n",
        "    Step forward through the MLP, aggregating the previous layer's values and\n",
        "    then applying the chosen activation function.\n",
        "\n",
        "    Args:\n",
        "      X (ndarray): Input data to feed through the network\n",
        "      batch_size (int): Batch size\n",
        "\n",
        "    '''\n",
        "    # Set the first layer (the input layer)'s \"activation\" to the input data\n",
        "    self.layers[0] = Layer(activated=X)\n",
        "\n",
        "    # Pass through each layer using inputs from previous layer\n",
        "    for i, layer in enumerate(self.layers[1:], start=1):\n",
        "      layer.forward(self.layers[i-1].a, batch_size)\n",
        "  \n",
        "  def backward(self, labels, lr, batch_size):\n",
        "    '''\n",
        "    Backpropagates from loss and adjust parameters after a forward pass.\n",
        "    \n",
        "    Args:\n",
        "      labels (ndarray): True labels in a one-hot representation\n",
        "      lr (float): Learning rate\n",
        "      batch_size (int): Batch size\n",
        "    \n",
        "    '''\n",
        "    # Calculate derivative of loss wrt logits\n",
        "    grad_chain = self.loss_fn(self.layers[-1].a, labels, derive=True)\n",
        "\n",
        "    for i in range(self.n_layers - 1, 0, -1):\n",
        "      # Save current weight for dloss/da of the previous layer later\n",
        "      prev_a = self.layers[i-1].a\n",
        "      old_weight = self.layers[i].w\n",
        "\n",
        "      # Adjust parameters\n",
        "      self.layers[i].adjust_weight(prev_a, grad_chain, lr, batch_size)\n",
        "      self.layers[i].adjust_bias(grad_chain, lr, batch_size)\n",
        "\n",
        "      # Compute dloss/da of previous layer, multiply to current product\n",
        "      grad_chain = (old_weight.T @ grad_chain) \n",
        "\n",
        "      # Compute dloss/dz of previous layer using elementwise multiplication\n",
        "      if self.layers[i-1].activ_fun is not None:\n",
        "        da_dz = self.layers[i-1].activ_fun(prev_a, derive=True)\n",
        "      else: # Don't need to derive the input layer\n",
        "        break\n",
        "  \n",
        "  def train(self, generator, lr, batch_size, train_mode=True):\n",
        "    '''\n",
        "    Train for a single epoch.\n",
        "\n",
        "    Args:\n",
        "      generator (generator): Generator to loop through one batch at a time\n",
        "      lr (float): Learning rate\n",
        "      train_mode (bool): True to backpropagate and update parameters\n",
        "    \n",
        "    Returns:\n",
        "      Average loss (float), average accuracy (float)\n",
        "\n",
        "    '''\n",
        "    loss = 0.0\n",
        "    acc = 0.0\n",
        "    for i, (X, y) in enumerate(generator):\n",
        "      self.forward(X, batch_size)\n",
        "\n",
        "      if train_mode: # Adjust parameters only during training\n",
        "        self.backward(y, lr, batch_size)\n",
        "\n",
        "      # Update accumulated measures\n",
        "      loss += self.loss_fn(self[-1].a, y)\n",
        "      acc += Loss.accuracy(self[-1].a, y)\n",
        "\n",
        "    # Average over the number of batches done\n",
        "    return loss/(i+1), acc/(i+1)"
      ],
      "metadata": {
        "id": "OCaLYwcnou37"
      },
      "execution_count": 3,
      "outputs": []
    },
    {
      "cell_type": "markdown",
      "source": [
        "## 1.3 Activation and loss functions"
      ],
      "metadata": {
        "id": "t7v6weDTiymY"
      }
    },
    {
      "cell_type": "code",
      "source": [
        "class Activation(object):\n",
        "  '''\n",
        "  Common activation functions used in a neural network.\n",
        "\n",
        "  '''\n",
        "  @staticmethod\n",
        "  def relu(x, derive=False):\n",
        "    '''\n",
        "    Applies ReLU or its derivative on an input.\n",
        "    \n",
        "    Args:\n",
        "      x (ndarray): Input data to apply ReLU on\n",
        "      derive (bool): True to take derivative of ReLU wrt to X\n",
        "\n",
        "    Returns:\n",
        "      Activated or gradient value from ReLU.\n",
        "\n",
        "    '''\n",
        "    if not derive:\n",
        "      return np.maximum(x, 0., x)\n",
        "    else:\n",
        "      return (x > 0).astype(int)\n",
        "  \n",
        "  @staticmethod\n",
        "  def sigmoid(x, derive=False):\n",
        "    '''\n",
        "    Applies sigmoid or its deriative on an input.\n",
        "\n",
        "    Args:\n",
        "      x (ndarray): Input data to apply sigmoid on\n",
        "       derive (bool): True to take derivative of sigmoid wrt to X\n",
        "\n",
        "    Returns:\n",
        "      Activated or gradient value from sigmoid.\n",
        "\n",
        "    '''\n",
        "    if not derive:\n",
        "      return 1 / (1 + np.exp(-x))\n",
        "    else: \n",
        "      return Activation.sigmoid(x) * (1-Activation.sigmoid(x))\n",
        "\n",
        "\n",
        "  @staticmethod\n",
        "  def softmax(x):\n",
        "    '''\n",
        "    Args:\n",
        "      x (ndarray): Input data to apply softmax on\n",
        "\n",
        "    Returns: \n",
        "      Probability values for a k-class classification so the sum of a \n",
        "      given example over all classes = 1.0\n",
        "      \n",
        "    '''\n",
        "    # Update from using a naive implementation - prevent numerical overflows\n",
        "    # by using shifting trick as opposed to np.exp(x)/np.sum(np.exp(x), axis=0)\n",
        "    shift = np.max(x)\n",
        "    exp_x = np.exp(x - shift)\n",
        "    return exp_x/np.sum(exp_x, axis=0)"
      ],
      "metadata": {
        "id": "5Ih0IHs_ixjA"
      },
      "execution_count": 4,
      "outputs": []
    },
    {
      "cell_type": "code",
      "source": [
        "class Loss(object):\n",
        "  '''\n",
        "  Common loss functions used in a neural network.\n",
        "\n",
        "  '''\n",
        "\n",
        "  @staticmethod\n",
        "  def cross_entropy(yhat, y, epsilon=1e-5, derive=False):\n",
        "    '''\n",
        "    Computes the cross-entropy loss or its gradient with respect to logits for \n",
        "    a batch of predictions.\n",
        "\n",
        "    Args:\n",
        "      yhat (ndarray): Outputs (after activation) from a MLP\n",
        "      y (ndarray): Actual labels to compare output with\n",
        "      epsilon (float): Small positive value to prevent taking log of 0\n",
        "      derive (bool): True to return derivative wrt logits\n",
        "\n",
        "    Returns:\n",
        "      Cross-entropy loss value or its derivative wrt logits\n",
        "\n",
        "    '''\n",
        "    if not derive:\n",
        "      # Squash for each example by summing before averaging - \n",
        "      # erroneously many zeros otherwise\n",
        "      return np.average(np.sum(-y * np.log(yhat + epsilon), axis=0))\n",
        "    else:\n",
        "      return yhat - y\n",
        "\n",
        "  @staticmethod\n",
        "  def hinge_loss(yhat, y, margin=1.0, derive=False):\n",
        "    '''\n",
        "    Computes the hinge loss or its derivative for a batch of predictions.\n",
        "\n",
        "    Args:\n",
        "      yhat (ndarray): Outputs (after activation) from a MLP\n",
        "      y (ndarray): Actual labels to compare output with\n",
        "      margin (float): Margin for target class value to overtake\n",
        "      derive (bool): True to return derivative\n",
        "\n",
        "    Returns:\n",
        "      Hinge loss value or its derivative\n",
        "\n",
        "    '''\n",
        "    # Output of the target class for each example\n",
        "    # Repeat so same value going down row to get same shape as yhat\n",
        "    y_target = np.sum(np.where(y == 1, yhat, 0), axis=0)\n",
        "\n",
        "    # Get distances from outputs at indexes != target class\n",
        "    # Add margin to elements at indexes != target class\n",
        "    dist = np.where(y == 1, 0, yhat - y_target + margin)\n",
        "\n",
        "    if not derive:\n",
        "      # Get the positive differences over each example (zero-threshold)\n",
        "      pos_per_example = np.where(dist > 0, dist, 0)\n",
        "\n",
        "      # Sum over each example, average over all batches\n",
        "      return np.sum(np.sum(pos_per_example, axis=0))\n",
        "    else:\n",
        "      return\n",
        "  \n",
        "  @staticmethod\n",
        "  def accuracy(yhat, y, y_one_hot=True):\n",
        "    '''\n",
        "    Computes the accuracy for a batch of outputs.\n",
        "\n",
        "    Args:\n",
        "      yhat (ndarray): Outputs (after activation) from a MLP\n",
        "      y (ndarray): Actual labels to compare output with\n",
        "      y_one_hot: True if y given in one-hot form, false if given as a list \n",
        "        of correct indexes\n",
        "\n",
        "    Returns:\n",
        "      Accuracy of a given output against its true values\n",
        "\n",
        "    '''\n",
        "    # Prediction class is the one with max predicted probability in each example\n",
        "    yhat_choices = np.argmax(yhat, axis=0)\n",
        "\n",
        "    # Reverse the actual labels' representation as one-hot for easier comparison\n",
        "    if y_one_hot:\n",
        "      y = Utility.reverse_one_hot(y)\n",
        "\n",
        "    # Compute the average accuracy of the batch\n",
        "    return np.average(yhat_choices == y)"
      ],
      "metadata": {
        "id": "cKXFSrnTBkys"
      },
      "execution_count": 5,
      "outputs": []
    },
    {
      "cell_type": "code",
      "source": [
        "# TEMP: hinge loss bumbling\n",
        "yhat = np.random.normal(size=(4,3)).T\n",
        "y = np.zeros((4, 3)).T\n",
        "y[0, 0] = 1\n",
        "y[2, 1] = 1\n",
        "y[1, 2] = 1\n",
        "y[0, 3] = 1\n",
        "yhat, y"
      ],
      "metadata": {
        "colab": {
          "base_uri": "https://localhost:8080/"
        },
        "id": "aQyT3KsAJxc3",
        "outputId": "2112133c-7210-42e1-b02f-ba524ef098dc"
      },
      "execution_count": 6,
      "outputs": [
        {
          "output_type": "execute_result",
          "data": {
            "text/plain": [
              "(array([[ 1.58109676, -0.82070111,  1.35998506,  1.02665171],\n",
              "        [-1.02326697,  1.56572325, -0.55458617, -1.70785564],\n",
              "        [ 0.60870623, -0.53913148,  0.39781522, -1.54012685]]),\n",
              " array([[1., 0., 0., 1.],\n",
              "        [0., 0., 1., 0.],\n",
              "        [0., 1., 0., 0.]]))"
            ]
          },
          "metadata": {},
          "execution_count": 6
        }
      ]
    },
    {
      "cell_type": "code",
      "source": [
        "# TEMP\n",
        "y_target = np.sum(np.where(y == 1, yhat, 0), axis=0)\n",
        "dist = np.where(y == 1, 0, yhat - y_target + 1.)\n",
        "maybe_deriv = np.where(y == 1, np.sum(dist > 0, axis=0), dist > 0)\n",
        "dist, maybe_deriv"
      ],
      "metadata": {
        "id": "iWaqnbauNR8q",
        "colab": {
          "base_uri": "https://localhost:8080/"
        },
        "outputId": "35cc5646-988a-4643-d964-d57dbc4f05dd"
      },
      "execution_count": 7,
      "outputs": [
        {
          "output_type": "execute_result",
          "data": {
            "text/plain": [
              "(array([[ 0.        ,  0.71843037,  2.91457122,  0.        ],\n",
              "        [-1.60436374,  3.10485473,  0.        , -1.73450735],\n",
              "        [ 0.02760947,  0.        ,  1.95240139, -1.56677856]]),\n",
              " array([[1, 1, 1, 0],\n",
              "        [0, 1, 2, 0],\n",
              "        [1, 2, 1, 0]]))"
            ]
          },
          "metadata": {},
          "execution_count": 7
        }
      ]
    },
    {
      "cell_type": "markdown",
      "source": [
        "## 1.4 Utilities class"
      ],
      "metadata": {
        "id": "uWe1jz6-4JoH"
      }
    },
    {
      "cell_type": "code",
      "source": [
        "class Utility(object):\n",
        "  '''\n",
        "  Miscellaneous methods for training and plotting.\n",
        "\n",
        "  '''\n",
        "\n",
        "  @staticmethod\n",
        "  def train_and_validate(mlp, dataset, lr, epochs, batch_size,\n",
        "                         shuffle_every_epoch=True, verbose=True):\n",
        "    '''\n",
        "    Train and validate in parallel over one or more epochs.\n",
        "\n",
        "    Args:\n",
        "      mlp: Perceptron object to train\n",
        "      dataset: Dataset object to pull features and labels from\n",
        "      lr (float): Learning rate\n",
        "      epochs (int): Number of epochs to train in\n",
        "      batch_size (int): Batch size\n",
        "      shuffle_every_epoch (bool): True to reshuffle training and validation\n",
        "        data within their divisions when regenerating the batches\n",
        "      verbose (bool): True to print loss and accuracy values after each epoch\n",
        "\n",
        "    Returns:\n",
        "\n",
        "    \n",
        "    '''\n",
        "    assert (epochs > 0)\n",
        "    train_loss = np.empty(epochs)\n",
        "    train_acc = np.empty(epochs)\n",
        "    valid_loss = np.empty(epochs)\n",
        "    valid_acc = np.empty(epochs)\n",
        "    start_time = time.time()\n",
        "    if verbose:\n",
        "      print('Epoch \\tTrain_loss \\tTrain_acc \\tValid_loss \\tValid_acc')\n",
        "\n",
        "    for epoch in range(epochs):\n",
        "      # Make iterators\n",
        "      train_iter = dataset.make_batches(batch_size, group='train', \n",
        "                                        shuffle_again=shuffle_every_epoch)\n",
        "      valid_iter = dataset.make_batches(batch_size, group='valid',\n",
        "                                        shuffle_again=shuffle_every_epoch)\n",
        "\n",
        "      # Train and validate - validate \"previous\" model before updating\n",
        "      valid_loss[epoch], valid_acc[epoch] = mlp.train(valid_iter, lr=lr,\n",
        "                                                      batch_size=batch_size,\n",
        "                                                      train_mode=False)\n",
        "      train_loss[epoch], train_acc[epoch] = mlp.train(train_iter, lr=lr,\n",
        "                                                      batch_size=batch_size,\n",
        "                                                      train_mode=True)\n",
        "      \n",
        "      # If set to print out info as executing\n",
        "      if verbose:\n",
        "        print('{} \\t{:9.3f} \\t{:9.3f} \\t {:9.3f} \\t{:9.3f}'.format(\n",
        "            epoch, train_loss[epoch], train_acc[epoch], \n",
        "            valid_loss[epoch], valid_acc[epoch]))\n",
        "\n",
        "    # Print amount of time taken\n",
        "    print('Time elapsed (s): {:2.1f}\\n'.format(time.time() - start_time))\n",
        "\n",
        "\n",
        "    return train_loss, train_acc, valid_loss, valid_acc\n",
        "  \n",
        "  @staticmethod\n",
        "  def make_one_hot(y):\n",
        "    '''\n",
        "    Make a traditional container of labels into a one-hot representation.\n",
        "    \n",
        "    Args:\n",
        "      y (list or tuple): Container of labels to convert\n",
        "\n",
        "    Returns:\n",
        "      Transformed array in one-hot representation\n",
        "    \n",
        "    '''\n",
        "    transformed = np.zeros((y.size, y.max() + 1))\n",
        "    transformed[np.arange(y.size), y] = 1\n",
        "    return transformed.T\n",
        "\n",
        "  @staticmethod\n",
        "  def reverse_one_hot(y):\n",
        "    '''\n",
        "    Convert a one-hot array back to a simple list of indices.\n",
        "\n",
        "    Args:\n",
        "      y (ndarray): Array to convert\n",
        "    \n",
        "    Returns:\n",
        "      Transformed array as a sequence of indexes\n",
        "\n",
        "    '''\n",
        "    return np.argmax(y, axis=0)\n",
        "\n",
        "  @staticmethod\n",
        "  def plot_images(dataset, y, num_images=3):\n",
        "    '''\n",
        "    Plot using the flattened representation of a square image in input X.\n",
        "\n",
        "    Args:\n",
        "\n",
        "    \n",
        "    '''\n",
        "    # Get random sample of dataset\n",
        "    indexes = np.random.randint(0, dataset.X.shape[-1], num_images)\n",
        "\n",
        "    # Display data as images\n",
        "    width = int(dataset.X.shape[0]**0.5)\n",
        "\n",
        "    for i in indexes:  \n",
        "      plt.subplot(330 + 1 + i)\n",
        "      plt.axis('off')\n",
        "      plt.imshow(dataset.X[:, i+i].reshape(width, width), \n",
        "                 cmap=plt.get_cmap('gray'))\n",
        "      \n",
        "      # Title each image with its true label\n",
        "      plt.title([Utility.reverse_one_hot(y[:, i+i])])\n",
        "\n",
        "      # TItle ach image with its predicted label, if any\n",
        "  \n",
        "  @staticmethod\n",
        "  def plot_results(results, labels=None, fmts=None, xlabel='Epoch', ylabel='',\n",
        "                   ymax=None, title=''):\n",
        "    \n",
        "    '''\n",
        "    Plot one or more results\n",
        "\n",
        "    Args:\n",
        "      results (list or tuple): Container of ndarray results to plot\n",
        "      labels (list or tuple): Container of strings, each a label corresponding\n",
        "        to each result to be displayed in the legend\n",
        "      fmts (list or tuple): Container of strings matching the matplotlib's\n",
        "        line, color, and marker styles. None to use default\n",
        "      xlabel (str): Label on x-axis\n",
        "      ylabel (str): Label on y-axis\n",
        "      ymax (float): Maximum bound to set y-axis to. None to use automatic\n",
        "        settings\n",
        "      title (str): Title of plot\n",
        "\n",
        "    '''\n",
        "    # Account for arguments not given\n",
        "    if labels is None: \n",
        "      labels = (str(_) for _ in range(len(results)))\n",
        "    else:\n",
        "      assert len(results) == len(labels)\n",
        "\n",
        "    if fmts is None:\n",
        "      fmts = ('' for _ in range(len(results)))\n",
        "    else:\n",
        "      assert len(results) == len(fmts)\n",
        "\n",
        "    # Plot each set of results with its corresponding label and format\n",
        "    for result, label, fmt in zip(results, labels, fmts):\n",
        "      plt.plot(np.arange(result.shape[0]), result, fmt, label=label)\n",
        "\n",
        "    # Parameters affecting entire plot\n",
        "    plt.legend()\n",
        "    plt.xlabel(xlabel)\n",
        "    plt.ylabel(ylabel)\n",
        "    plt.title(title)  \n",
        "    if ymax is not None:\n",
        "      plt.ylim(0, ymax)"
      ],
      "metadata": {
        "id": "QMGZb_cJCAL7"
      },
      "execution_count": 21,
      "outputs": []
    },
    {
      "cell_type": "markdown",
      "source": [
        "## 1.5 Dataset class"
      ],
      "metadata": {
        "id": "I9ZZcb30LB9b"
      }
    },
    {
      "cell_type": "code",
      "source": [
        "class Dataset(object):\n",
        "  '''\n",
        "  Represents a set of data with methods to reshape, split, and train.\n",
        "\n",
        "  '''\n",
        "  def __init__(self, X, y, make_y_one_hot=True):\n",
        "    '''\n",
        "    Constructs a Dataset object.\n",
        "    \n",
        "    Args:\n",
        "      X (ndarray): Input data\n",
        "      y (ndarray): Labels corresponding to input data\n",
        "      make_y_one_hot (bool): True to convert the labels into a one-hot \n",
        "        representation, if not done already; false to skip this step\n",
        "\n",
        "    '''\n",
        "    self.X = X\n",
        "    self.y = y\n",
        "    self.X_train = None\n",
        "    self.y_train = None\n",
        "    self.X_valid = None\n",
        "    self.y_valid = None\n",
        "    self.X_test = None\n",
        "    self.y_test = None\n",
        "\n",
        "    if make_y_one_hot:\n",
        "      self.y = Utility.make_one_hot(self.y)\n",
        "\n",
        "  def shape(self, features, categories, flatten_X=True):\n",
        "    '''\n",
        "    Reshapes the input and output data.\n",
        "\n",
        "    Args:\n",
        "      features: Number of features in the input data. Set to width of a 2D image\n",
        "        if it will be flattened.\n",
        "      categories: Number of categories in the classification problem\n",
        "      flatten_X: True to flatten a 2D image into a 1D array\n",
        "\n",
        "    '''\n",
        "    if flatten_X: \n",
        "      self.X = self.X.reshape(-1, features*features).T\n",
        "    else:\n",
        "      self.X = self.X.reshape(features, -1)\n",
        "    self.y = self.y.reshape(categories, -1)\n",
        "\n",
        "  def shuffle(self):\n",
        "    '''\n",
        "    Shuffles both X and y together in the dataset.\n",
        "\n",
        "    '''\n",
        "    assert self.X.shape[-1] == self.y.shape[-1]\n",
        "    shuffled_indexes = np.random.permutation(self.X.shape[-1])\n",
        "    self.X = self.X[:, shuffled_indexes]\n",
        "    self.y = self.y[:, shuffled_indexes]\n",
        "\n",
        "  def divide(self, p_train=70, p_valid=15, p_test=15):\n",
        "    '''\n",
        "    Divide the loaded data into sets for training, validation, and testing.\n",
        "\n",
        "    Args:\n",
        "      p_train (int): Percentage of data to allot for training\n",
        "      p_valid (int): Percentage of data to allot for validation\n",
        "      p_test (int): Percentage of data to allot for testing\n",
        "\n",
        "    '''\n",
        "    if (p_train + p_valid + p_test != 100):\n",
        "      raise ValueError('Error: percentages don''t sum up to 100!')\n",
        "    n_train = int(p_train * 0.01 * self.X.shape[-1])\n",
        "    n_valid = int(p_valid * 0.01 * self.X.shape[-1])\n",
        "    n_test = int(p_test * 0.01 * self.X.shape[-1])\n",
        "\n",
        "    # If missing a few examples from cutoffs, add to training set\n",
        "    test_diff = self.X.shape[-1] - (n_train + n_valid + n_test)\n",
        "    if test_diff > 0:\n",
        "      n_train += test_diff\n",
        "\n",
        "    # Define groups\n",
        "    self.X_train = self.X[:, 0:n_train]\n",
        "    self.y_train = self.y[:, 0:n_train]\n",
        "    self.X_valid = self.X[:, n_train:(n_train + n_valid)]\n",
        "    self.y_valid = self.y[:, n_train:(n_train + n_valid)]\n",
        "    self.X_test = self.X[:, (n_train + n_valid): ]\n",
        "    self.y_test = self.y[:, (n_train + n_valid): ]\n",
        "    \n",
        "  def make_batches(self, batch_size, group='train', scale_X=True,\n",
        "                   shuffle_again=True):\n",
        "    '''\n",
        "    Make batches given a specified size and a selected group.\n",
        "\n",
        "    Args: \n",
        "      batch_size (int): Batch size to divide data into\n",
        "      group (str): Either train, valid, or test to select group\n",
        "      scale_X (bool): True to rescale data to be between 0 and 1\n",
        "      shuffle_again (bool): True to shuffle data within its group when \n",
        "        a new set of batches is made\n",
        "\n",
        "    Returns:\n",
        "      Generator of batches in the specified size from the specified group.\n",
        "\n",
        "    '''\n",
        "    # Get the training, testing, or validation group:\n",
        "    if group == 'train':\n",
        "      X_select, y_select = self.X_train, self.y_train\n",
        "    elif group == 'valid':\n",
        "      X_select, y_select = self.X_valid, self.y_valid\n",
        "    elif group == 'test':\n",
        "      X_select, y_select = self.X_test, self.y_test\n",
        "    else:\n",
        "      raise ValueError('Incorrect argument for group! Choose between train, '\n",
        "                       'validate, or test.')\n",
        "\n",
        "    # Shuffle within the group, if specified\n",
        "    if shuffle_again:\n",
        "      shuffled_indexes = np.random.permutation(X_select.shape[-1])\n",
        "      X_select = X_select[:, shuffled_indexes]\n",
        "      y_select = y_select[:, shuffled_indexes]\n",
        "\n",
        "    # Make generators for the features and labels of the selected set\n",
        "    for i in range(0, X_select.shape[-1], batch_size):\n",
        "      if scale_X: # Rescale X to have values between 0 and 1\n",
        "        X_scaled = np.linalg.norm(X_select[:, i:i+batch_size])\n",
        "        yield X_select[:, i:i+batch_size]/X_scaled, y_select[:, i:i+batch_size]\n",
        "      else:\n",
        "        yield X_select[:, i:i+batch_size], y_select[:, i:i+batch_size]"
      ],
      "metadata": {
        "id": "hp-u4Odi4MHf"
      },
      "execution_count": 9,
      "outputs": []
    },
    {
      "cell_type": "markdown",
      "source": [
        "# 2. Testing the API"
      ],
      "metadata": {
        "id": "ejKqz_Tv2A3L"
      }
    },
    {
      "cell_type": "markdown",
      "source": [
        "## 2.1 Import the MNIST dataset\n",
        "*   Permitted to use outside packages for downloading MNIST data, so use `keras`.\n",
        "*   Merge existing training and test sets and resplit, since splitting must be done by this homework's API.\n",
        "\n"
      ],
      "metadata": {
        "id": "gTQjTpXU-mC4"
      }
    },
    {
      "cell_type": "code",
      "source": [
        "from keras.datasets import mnist\n",
        "(train_X, train_y), (test_X, test_y) = mnist.load_data()\n",
        "print(train_X.shape, train_y.shape, test_X.shape, test_y.shape)"
      ],
      "metadata": {
        "id": "UFHR62sWB4eT",
        "colab": {
          "base_uri": "https://localhost:8080/"
        },
        "outputId": "880326f1-bd13-4f76-b446-5c12f6c619bb"
      },
      "execution_count": 10,
      "outputs": [
        {
          "output_type": "stream",
          "name": "stdout",
          "text": [
            "(60000, 28, 28) (60000,) (10000, 28, 28) (10000,)\n"
          ]
        }
      ]
    },
    {
      "cell_type": "code",
      "source": [
        "mnist_all_X = np.concatenate((train_X, test_X), axis=0)\n",
        "mnist_all_y = np.concatenate((train_y, test_y), axis=0)\n",
        "print('MNIST features reshaped:', mnist_all_X.shape, \n",
        "      '\\nMNIST labels reshaped:', mnist_all_y.shape)"
      ],
      "metadata": {
        "id": "jqrK7cd-E0BJ",
        "colab": {
          "base_uri": "https://localhost:8080/"
        },
        "outputId": "9ba15c54-0fb2-4bee-bd09-4ff2d31a3957"
      },
      "execution_count": 11,
      "outputs": [
        {
          "output_type": "stream",
          "name": "stdout",
          "text": [
            "MNIST features reshaped: (70000, 28, 28) \n",
            "MNIST labels reshaped: (70000,)\n"
          ]
        }
      ]
    },
    {
      "cell_type": "markdown",
      "source": [
        "## 2.2 Preprocessing"
      ],
      "metadata": {
        "id": "aOpXBwW6FMLR"
      }
    },
    {
      "cell_type": "code",
      "source": [
        "# Make a Dataset object\n",
        "mnist_set = Dataset(mnist_all_X, mnist_all_y, True)\n",
        "\n",
        "# Reshape the data\n",
        "width = 28\n",
        "categories = 10\n",
        "mnist_set.shape(width, categories, True)\n",
        "print(\"Feature and label shapes:\", mnist_set.X.shape, mnist_set.y.shape)\n",
        "\n",
        "# Shuffle the data\n",
        "# plot first __ before shuffling\n",
        "mnist_set.shuffle()\n",
        "# plot first __ after to prove it's shuffled?\n",
        "\n",
        "# Divide the data\n",
        "mnist_set.divide()\n",
        "print('Splits on training, validation, & testing:', \n",
        "      mnist_set.X_train.shape, mnist_set.X_valid.shape, mnist_set.X_test.shape)"
      ],
      "metadata": {
        "id": "cueDPZa2qKnz",
        "colab": {
          "base_uri": "https://localhost:8080/"
        },
        "outputId": "0fad1925-d5cb-406e-edef-34815a9fbc2d"
      },
      "execution_count": 12,
      "outputs": [
        {
          "output_type": "stream",
          "name": "stdout",
          "text": [
            "Feature and label shapes: (784, 70000) (10, 70000)\n",
            "Splits on training, validation, & testing: (784, 49000) (784, 10500) (784, 10500)\n"
          ]
        }
      ]
    },
    {
      "cell_type": "markdown",
      "source": [
        "## Training and validation"
      ],
      "metadata": {
        "id": "pH2B2SnNKrVc"
      }
    },
    {
      "cell_type": "markdown",
      "source": [
        "### Varying the learning rate"
      ],
      "metadata": {
        "id": "D6yuzi4ey9Cl"
      }
    },
    {
      "cell_type": "code",
      "source": [
        "# Make a generic neural network with two hidden layers\n",
        "p = Perceptron((width*width, 64, 32, 10),\n",
        "               (Activation.relu, Activation.relu, Activation.softmax),\n",
        "               Loss.cross_entropy, var=0.01)\n",
        "lrs = (0.2, 0.1, 0.05, 0.01) # Different learning rates to test\n",
        "epochs = 15\n",
        "lr_results = []\n",
        "for lr in lrs:\n",
        "  lr_results.append(Utility.train_and_validate(p, mnist_set, lr, epochs, 100))\n",
        "  p.reset()"
      ],
      "metadata": {
        "id": "kEKW_IuKy_an",
        "colab": {
          "base_uri": "https://localhost:8080/"
        },
        "outputId": "8e615ec9-a5d7-4d8b-94da-d954615f98d8"
      },
      "execution_count": 20,
      "outputs": [
        {
          "output_type": "stream",
          "name": "stdout",
          "text": [
            "Epoch \tTrain_loss \tTrain_acc \tValid_loss \tValid_acc\n",
            "0 \t    2.303 \t    0.106 \t     2.307 \t    0.107\n",
            "1 \t    2.298 \t    0.113 \t     2.299 \t    0.111\n",
            "2 \t    2.283 \t    0.131 \t     2.294 \t    0.111\n",
            "3 \t    2.115 \t    0.218 \t     2.259 \t    0.194\n",
            "4 \t    1.640 \t    0.435 \t     1.883 \t    0.324\n",
            "5 \t    1.207 \t    0.580 \t     1.387 \t    0.524\n",
            "6 \t    0.912 \t    0.706 \t     1.075 \t    0.648\n",
            "7 \t    0.746 \t    0.759 \t     0.819 \t    0.733\n",
            "8 \t    0.684 \t    0.783 \t     0.727 \t    0.765\n",
            "9 \t    0.641 \t    0.801 \t     0.685 \t    0.778\n",
            "10 \t    0.600 \t    0.819 \t     0.639 \t    0.799\n",
            "11 \t    0.559 \t    0.833 \t     0.599 \t    0.814\n",
            "12 \t    0.525 \t    0.845 \t     0.553 \t    0.829\n",
            "13 \t    0.498 \t    0.855 \t     0.530 \t    0.841\n",
            "14 \t    0.473 \t    0.863 \t     0.498 \t    0.855\n",
            "Time elapsed (s): 28.3\n",
            "Epoch \tTrain_loss \tTrain_acc \tValid_loss \tValid_acc\n",
            "0 \t    2.304 \t    0.105 \t     2.313 \t    0.090\n",
            "1 \t    2.299 \t    0.113 \t     2.300 \t    0.111\n",
            "2 \t    2.297 \t    0.113 \t     2.298 \t    0.111\n",
            "3 \t    2.293 \t    0.114 \t     2.296 \t    0.111\n",
            "4 \t    2.284 \t    0.128 \t     2.290 \t    0.112\n",
            "5 \t    2.250 \t    0.196 \t     2.274 \t    0.159\n",
            "6 \t    2.105 \t    0.262 \t     2.209 \t    0.210\n",
            "7 \t    1.865 \t    0.328 \t     1.982 \t    0.272\n",
            "8 \t    1.671 \t    0.431 \t     1.772 \t    0.381\n",
            "9 \t    1.425 \t    0.536 \t     1.575 \t    0.483\n",
            "10 \t    1.171 \t    0.616 \t     1.301 \t    0.573\n",
            "11 \t    0.991 \t    0.672 \t     1.086 \t    0.634\n",
            "12 \t    0.878 \t    0.714 \t     0.945 \t    0.690\n",
            "13 \t    0.807 \t    0.741 \t     0.854 \t    0.720\n",
            "14 \t    0.760 \t    0.760 \t     0.800 \t    0.745\n",
            "Time elapsed (s): 25.4\n",
            "Epoch \tTrain_loss \tTrain_acc \tValid_loss \tValid_acc\n",
            "0 \t    2.306 \t    0.098 \t     2.313 \t    0.100\n",
            "1 \t    2.302 \t    0.110 \t     2.303 \t    0.100\n",
            "2 \t    2.300 \t    0.113 \t     2.301 \t    0.111\n",
            "3 \t    2.300 \t    0.113 \t     2.300 \t    0.111\n",
            "4 \t    2.299 \t    0.113 \t     2.299 \t    0.111\n",
            "5 \t    2.298 \t    0.113 \t     2.299 \t    0.111\n",
            "6 \t    2.297 \t    0.113 \t     2.297 \t    0.111\n",
            "7 \t    2.295 \t    0.113 \t     2.296 \t    0.111\n",
            "8 \t    2.293 \t    0.113 \t     2.294 \t    0.111\n",
            "9 \t    2.290 \t    0.113 \t     2.292 \t    0.111\n",
            "10 \t    2.286 \t    0.113 \t     2.288 \t    0.111\n",
            "11 \t    2.278 \t    0.120 \t     2.283 \t    0.111\n",
            "12 \t    2.265 \t    0.157 \t     2.273 \t    0.123\n",
            "13 \t    2.238 \t    0.212 \t     2.255 \t    0.186\n",
            "14 \t    2.176 \t    0.254 \t     2.216 \t    0.239\n",
            "Time elapsed (s): 26.2\n",
            "Epoch \tTrain_loss \tTrain_acc \tValid_loss \tValid_acc\n",
            "0 \t    2.304 \t    0.113 \t     2.304 \t    0.111\n",
            "1 \t    2.304 \t    0.113 \t     2.304 \t    0.111\n",
            "2 \t    2.303 \t    0.113 \t     2.304 \t    0.111\n",
            "3 \t    2.303 \t    0.113 \t     2.303 \t    0.111\n",
            "4 \t    2.302 \t    0.113 \t     2.303 \t    0.111\n",
            "5 \t    2.302 \t    0.113 \t     2.303 \t    0.111\n",
            "6 \t    2.302 \t    0.113 \t     2.302 \t    0.111\n",
            "7 \t    2.302 \t    0.113 \t     2.302 \t    0.111\n",
            "8 \t    2.301 \t    0.113 \t     2.302 \t    0.111\n",
            "9 \t    2.301 \t    0.113 \t     2.301 \t    0.111\n",
            "10 \t    2.301 \t    0.113 \t     2.301 \t    0.111\n",
            "11 \t    2.300 \t    0.113 \t     2.301 \t    0.111\n",
            "12 \t    2.300 \t    0.113 \t     2.301 \t    0.111\n",
            "13 \t    2.300 \t    0.113 \t     2.300 \t    0.111\n",
            "14 \t    2.300 \t    0.113 \t     2.300 \t    0.111\n",
            "Time elapsed (s): 25.5\n"
          ]
        }
      ]
    },
    {
      "cell_type": "code",
      "source": [
        "# Plot training loss for the different learning rates used\n",
        "Utility.plot_results([_[0] for _ in lr_results],\n",
        "                     labels=['lr=' + str(lr) for lr in lrs],\n",
        "                     ylabel='Cross-entropy loss',\n",
        "                     title='Effect of learning rate on training loss')"
      ],
      "metadata": {
        "id": "jqvZ1K3zp_SC",
        "colab": {
          "base_uri": "https://localhost:8080/",
          "height": 295
        },
        "outputId": "556bd9a3-79a3-4ef4-ea6c-6a405caf7ed8"
      },
      "execution_count": 23,
      "outputs": [
        {
          "output_type": "display_data",
          "data": {
            "image/png": "[encoded data removed]",
            "text/plain": [
              "<Figure size 432x288 with 1 Axes>"
            ]
          },
          "metadata": {
            "needs_background": "light"
          }
        }
      ]
    },
    {
      "cell_type": "code",
      "source": [
        "# Plot training accuracy for the different learning rates used\n",
        "Utility.plot_results([_[1] for _ in lr_results],\n",
        "                     labels=['lr=' + str(lr) for lr in lrs],\n",
        "                     ylabel='Accuracy', ymax=1.0,\n",
        "                     title='Effect of learning rate on training accuracy')"
      ],
      "metadata": {
        "id": "YhxS1S9PqsKq",
        "colab": {
          "base_uri": "https://localhost:8080/",
          "height": 295
        },
        "outputId": "e9e89823-2afc-45e3-d882-3532821722b0"
      },
      "execution_count": 24,
      "outputs": [
        {
          "output_type": "display_data",
          "data": {
            "image/png": "[encoded data removed]",
            "text/plain": [
              "<Figure size 432x288 with 1 Axes>"
            ]
          },
          "metadata": {
            "needs_background": "light"
          }
        }
      ]
    },
    {
      "cell_type": "markdown",
      "source": [
        "### Changing the architecture\n",
        "\n",
        "*   Number of hidden layers\n",
        "*   Number of neurons per layer\n",
        "\n"
      ],
      "metadata": {
        "id": "pitXNowVqzBq"
      }
    },
    {
      "cell_type": "code",
      "source": [
        "# MLP with 2 hidden layers\n",
        "p = Perceptron((width*width, 128, 64, 10),\n",
        "                  (Activation.relu, Activation.relu, Activation.softmax),\n",
        "                  Loss.cross_entropy, batch_size=100)\n",
        "\n",
        "# Run, store results in variable\n",
        "r2 = Utility.train_validate(p, mnist_set, lr=5e-4, epochs=25, verbose=True)\n",
        "\n",
        "# Plot results\n",
        "Utility.plot_results(r2[0], r2[1], r2[2], r2[3],\n",
        "                     labels=('Test loss', 'Test accuracy', 'Validation loss', \n",
        "                             'Validation accuracy'),\n",
        "                     fmts=('', '', 'o', 'o'), ymax=1.0,\n",
        "                     title='MLP with two hidden layers')"
      ],
      "metadata": {
        "id": "9YCf69NSnXPq"
      },
      "execution_count": null,
      "outputs": []
    },
    {
      "cell_type": "code",
      "source": [
        "# MLP with 3 hidden layers\n",
        "p = Perceptron((width*width, 128, 64, 32, 10),\n",
        "               (Activation.relu, Activation.relu, Activation.relu, Activation.softmax),\n",
        "               Loss.cross_entropy, batch_size=100)\n",
        "r3 = Utility.train_validate(p, mnist_set, lr=5e-4, epochs=25, verbose=True)\n",
        "Utility.plot_results(r3[0], r3[1], r3[2], r3[3],\n",
        "                     labels=('Test loss', 'Test accuracy', 'Validation loss', \n",
        "                             'Validation accuracy'),\n",
        "                     fmts=('', '', 'o', 'o'), ymax=1.0,\n",
        "                     title='MLP with three hidden layers')"
      ],
      "metadata": {
        "id": "nUYB13p7pSC_"
      },
      "execution_count": null,
      "outputs": []
    },
    {
      "cell_type": "code",
      "source": [
        "# MLP with 2 hidden layers, fewer neurons\n",
        "mlp = Perceptron((width*width, 16, 8, 10),\n",
        "                  (Activation.relu, Activation.relu, Activation.softmax),\n",
        "                  Loss.cross_entropy, batch_size=100)\n",
        "r2b = Utility.train_validate(mlp, mnist_set, lr=2e-3, epochs=25, verbose=True)\n",
        "Utility.plot_results(r2b[0], r2b[1], r2b[2], r2b[3],\n",
        "                     labels=('Test loss', 'Test accuracy', 'Validation loss', \n",
        "                             'Validation accuracy'),\n",
        "                     fmts=('', '', 'o', 'o'), ymax=1.0,\n",
        "                     title='MLP with two hidden layers, fewer neurons')"
      ],
      "metadata": {
        "id": "VPlcjxVgzj69"
      },
      "execution_count": null,
      "outputs": []
    },
    {
      "cell_type": "markdown",
      "source": [
        "MLP with fewer neurons in hidden layers is more efficient to train but results in more loss and less accuracy. "
      ],
      "metadata": {
        "id": "mgMLR3t10yDv"
      }
    },
    {
      "cell_type": "markdown",
      "source": [
        "### Selecting activation functions"
      ],
      "metadata": {
        "id": "8LPlWqmM17Q4"
      }
    },
    {
      "cell_type": "markdown",
      "source": [
        "### Changing loss function"
      ],
      "metadata": {
        "id": "dnf7-wMhnl_J"
      }
    },
    {
      "cell_type": "markdown",
      "source": [
        "### Changing how parameters are initialized"
      ],
      "metadata": {
        "id": "sZmoUz9un-2Q"
      }
    },
    {
      "cell_type": "markdown",
      "source": [
        "# Miscellaneous tasks\n",
        "\n",
        "Toy tests to manually check basic functionality"
      ],
      "metadata": {
        "id": "62TdC6i4TRvl"
      }
    },
    {
      "cell_type": "markdown",
      "source": [
        "Hinge loss examples on 1/20/22 lecture:"
      ],
      "metadata": {
        "id": "FrMKJXoC_9wd"
      }
    },
    {
      "cell_type": "code",
      "source": [
        "# 3-class classification example\n",
        "ex1 = np.array([-3.7, 5, 7]).T\n",
        "print('Target class is 3, loss={:0.1f} \\tif 2, {:0.1f} \\tif 1, {:0.1f}'.format(\n",
        "    Loss.hinge_loss(ex1, np.array([0, 0, 1]).T),\n",
        "    Loss.hinge_loss(ex1, np.array([0, 1, 0]).T),\n",
        "    Loss.hinge_loss(ex1, np.array([1, 0, 0]).T)))"
      ],
      "metadata": {
        "id": "nn7mgrr_ABYv",
        "colab": {
          "base_uri": "https://localhost:8080/"
        },
        "outputId": "a7452b91-ea7d-4cb9-ec08-6b64e55c38dd"
      },
      "execution_count": null,
      "outputs": [
        {
          "output_type": "stream",
          "name": "stdout",
          "text": [
            "Target class is 3, loss=0.0 \tif 2, 3.0 \tif 1, 21.4\n"
          ]
        }
      ]
    },
    {
      "cell_type": "code",
      "source": [
        "# 4-class classification example\n",
        "ex2 = np.array([2.5, 2.0, 2.7, 1.7]).T\n",
        "print('Target class is 2: {:0.1f}'.format(\n",
        "    Loss.hinge_loss(ex2, np.array([0, 1, 0, 0]).T)))"
      ],
      "metadata": {
        "id": "G3r5ejAXAEZH",
        "colab": {
          "base_uri": "https://localhost:8080/"
        },
        "outputId": "0a4a381a-a8d4-4d84-fe24-90a788fec480"
      },
      "execution_count": null,
      "outputs": [
        {
          "output_type": "stream",
          "name": "stdout",
          "text": [
            "Target class is 2: 3.9\n"
          ]
        }
      ]
    },
    {
      "cell_type": "markdown",
      "source": [
        "Compute accuracy on two examples, one correct and one not:"
      ],
      "metadata": {
        "id": "4jOLOwuQF6mN"
      }
    },
    {
      "cell_type": "code",
      "source": [
        "yhat = np.array(((0.2, 0.5, 0.3), (0.7, 0.2, 0.1))).T\n",
        "y = np.array(((0, 1, 0), (0, 1, 0))).T\n",
        "Loss.accuracy(yhat, y)"
      ],
      "metadata": {
        "id": "EpN_cvn8F8_c",
        "colab": {
          "base_uri": "https://localhost:8080/"
        },
        "outputId": "b02d4761-73d4-4737-8c37-f93b674b7855"
      },
      "execution_count": null,
      "outputs": [
        {
          "output_type": "execute_result",
          "data": {
            "text/plain": [
              "0.5"
            ]
          },
          "metadata": {},
          "execution_count": 15
        }
      ]
    },
    {
      "cell_type": "markdown",
      "source": [
        "Informal problem given at the end of class, 1/25/22:"
      ],
      "metadata": {
        "id": "Fw_MM8svOBAe"
      }
    },
    {
      "cell_type": "code",
      "source": [
        "p = Perceptron((4, 3, 2, 4), \n",
        "               (Activation.relu, Activation.sigmoid, Activation.softmax), \n",
        "               Loss.cross_entropy, init_with_normal=True)\n",
        "p[1].w = np.array([[1.,0,0,0], [0,1,0,0], [0,0,1,0]])\n",
        "p[2].w = np.array([[1.,0,0], [0,1,0]])\n",
        "p[3].w = np.array([[1.,0], [0,1], [0,0], [0,0]])\n",
        "p.zero_biases()\n",
        "\n",
        "# Check forward path\n",
        "p.forward(np.array([1, 0, 1, 0]).reshape(-1, 1), batch_size=1)\n",
        "for i in range(1, len(p.dims)):\n",
        "  print('Layer', i, '\\nz =\\n', p[i].z, '\\na =\\n', p[i].a, '\\n')"
      ],
      "metadata": {
        "id": "Z6ZL6w-XMa9B"
      },
      "execution_count": null,
      "outputs": []
    },
    {
      "cell_type": "code",
      "source": [
        "# Check backpropagation\n",
        "y = np.array([0., 1., 0., 0.]).reshape(-1, 1) # Dummy one-hot label\n",
        "print('p[1].w before backprop\\n', p[1].w)\n",
        "p.backward(y, lr=0.5, batch_size=1)\n",
        "print('p[1].w after backprop\\n', p[1].w)\n",
        "\n",
        "Activation.softmax(p[3].w @ p[2].a + p[3].b)"
      ],
      "metadata": {
        "colab": {
          "base_uri": "https://localhost:8080/"
        },
        "id": "FDOfKgdXt6Gf",
        "outputId": "627d2d71-b63f-40dd-ea5f-0884326eadaf"
      },
      "execution_count": null,
      "outputs": [
        {
          "output_type": "stream",
          "name": "stdout",
          "text": [
            "p[1].w before backprop\n",
            " [[1.04421637 0.         0.04421637 0.        ]\n",
            " [0.         1.         0.         0.        ]\n",
            " [0.03964693 0.         1.03964693 0.        ]]\n",
            "layer 1\n",
            "p[1].w after backprop\n",
            " [[1.14514486 0.         0.14514486 0.        ]\n",
            " [0.         1.         0.         0.        ]\n",
            " [0.09621592 0.         1.09621592 0.        ]]\n"
          ]
        },
        {
          "output_type": "execute_result",
          "data": {
            "text/plain": [
              "array([[0.05991671],\n",
              "       [0.8446309 ],\n",
              "       [0.04772619],\n",
              "       [0.04772619]])"
            ]
          },
          "metadata": {},
          "execution_count": 52
        }
      ]
    }
  ]
}